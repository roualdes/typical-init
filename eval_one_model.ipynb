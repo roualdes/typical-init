{
 "cells": [
  {
   "cell_type": "markdown",
   "id": "b31e2d8b-722a-4540-9bf5-e3ea2514883b",
   "metadata": {},
   "source": [
    "# Typical Set Initialization"
   ]
  },
  {
   "cell_type": "markdown",
   "id": "ba8066ba-a5a2-4f79-b842-f4e9a61e3bd2",
   "metadata": {},
   "source": [
    "Stan's MCMC algorithm warms up with an initial fast adaptation interval with default length of 75 iterations.  In these first 75 iterations, \"the chain is allowed to converge towards the typical set\", see [Stan documentation, Section Automatic Parameter Tuning](https://mc-stan.org/docs/reference-manual/hmc-algorithm-parameters.html#automatic-parameter-tuning).  This notebook proposes a new initialization scheme which uses on average fewer gradient evaluations within 75 warmup iterations to move nearly the same distance toward the typical set."
   ]
  },
  {
   "cell_type": "markdown",
   "id": "03ad269d-a350-4464-a81a-af5d328ff1eb",
   "metadata": {},
   "source": [
    "During the 75 warm up iterations of the initial fast interval, Stan's dynamic HMC leapfrogs through phase space, numerically integrating a Hamiltonian system of equations and then selects a new point ensuring detailed balance holds.  The leapfrog steps ensure progress toward the typical set, while preserving detailed balance provides some sort of asymptotic guarantee on expectation values (if sampling were to continue indefinitely).  Since these warmup iterations are commonly thrown away, this author believes there is an argument against spending the computational resources to preserve detailed balance."
   ]
  },
  {
   "cell_type": "markdown",
   "id": "1f078390-9ce8-45d9-97ff-b80aa8b3bdb1",
   "metadata": {},
   "source": [
    "In the most common use case of Stan, the initial 75 warmup iterations are to find the typical set, not to provide information about expectation values.  This notebook explores the computational gain, if any, to be had in giving up detailed balance during these initial 75 warmup iterations."
   ]
  },
  {
   "cell_type": "markdown",
   "id": "bcaa4819-4608-4e07-87c4-2032df5377e4",
   "metadata": {},
   "source": [
    "Similar to Stan, this initialization scheme \n",
    "\n",
    "* adapts the step size based on the change in the [Hamiltonian](https://mc-stan.org/docs/reference-manual/hamiltonian-monte-carlo.html#the-hamiltonian) from the initial point to the point reached by leapfrog steps,\n",
    "* initializes parameter values $\\theta \\in \\mathbb{R}^D$ with $U_d(-2, 2)$ draws for $d = 1:D$, such that the log_density and its gradient are finite\n",
    "* limits the maximum number of leapfrog steps to $2^{10}$ by default\n",
    "* calculates divergences and aborts trajectories if a divergence is reached before a u-turn"
   ]
  },
  {
   "cell_type": "markdown",
   "id": "d163eb15-b0e2-44b5-9415-11106bb03b3b",
   "metadata": {},
   "source": [
    "Different from Stan, this initialization scheme\n",
    "\n",
    "* ignores detailed balance by stopping leapfrog steps when a u-turn is reached\n",
    "* the final position upon a u-turn is always accepted, given no divergence occured"
   ]
  },
  {
   "cell_type": "markdown",
   "id": "806f7b4c-eefb-4ebd-99c3-173a45c27352",
   "metadata": {},
   "source": [
    "## Algorithm details"
   ]
  },
  {
   "cell_type": "markdown",
   "id": "aab71bf3-2c86-4b49-86cf-fee4203b7cac",
   "metadata": {},
   "source": [
    "**input**: log_density_gradient() for a Stan program, dimension D\n",
    "\n",
    "**output**: a point in parameter space as close to the typical set as Stan might produce\n",
    "\n",
    "1. initialize $\\theta$ from $U(-2, 2)$ until log_density and gradient are finite\n",
    "2. initialize step_size\n",
    "3. direction ~ U({-1, 1})\n",
    "4. for step in 1:75\n",
    "    * while n_leapfrog < max_leapfrogs\n",
    "        * n_leapfrog += 1\n",
    "        * position' = leapfrog(position, ..., direction, ...)\n",
    "        * calculate change in Hamiltonian\n",
    "        * if divergent: break\n",
    "        * if u_turn: break\n",
    "    * update step_size\n",
    "    * if not divergent: position' = position"
   ]
  },
  {
   "cell_type": "code",
   "execution_count": 1,
   "id": "31d6e231-5a78-4e8b-847a-51ef582388b2",
   "metadata": {},
   "outputs": [
    {
     "name": "stderr",
     "output_type": "stream",
     "text": [
      "/Users/girlfriend/venvs/py3/lib/python3.12/site-packages/tqdm/auto.py:21: TqdmWarning: IProgress not found. Please update jupyter and ipywidgets. See https://ipywidgets.readthedocs.io/en/stable/user_install.html\n",
      "  from .autonotebook import tqdm as notebook_tqdm\n"
     ]
    }
   ],
   "source": [
    "from cmdstanpy import CmdStanModel\n",
    "from initialize import initialize # the proposed intialization procedure\n",
    "from pathlib import Path\n",
    "\n",
    "import bridgestan as bs\n",
    "bs.set_bridgestan_path(Path.home() / \"bridgestan\")\n",
    "\n",
    "import matplotlib.pyplot as plt\n",
    "import numpy as np"
   ]
  },
  {
   "cell_type": "code",
   "execution_count": 13,
   "id": "8107e055-9f9a-446a-9943-60373269786c",
   "metadata": {},
   "outputs": [],
   "source": [
    "# model = \"earnings-earn_height\" # typical set is far away\n",
    "model = \"arma-arma11\"\n",
    "stan_file = Path.home() / \"minipdb\" / \"programs\" / model / (model + \".stan\")\n",
    "data_file = Path.home() / \"minipdb\" / \"programs\" / model / (model + \".json\")\n",
    "\n",
    "bsm = bs.StanModel(stan_file, data_file)\n",
    "dim = bsm.param_unc_num()\n",
    "\n",
    "def ldg(position, gradient):\n",
    "    ld = -np.inf\n",
    "    try:\n",
    "        ld, _ = bsm.log_density_gradient(position, out = gradient)\n",
    "    except:\n",
    "        pass\n",
    "    return ld"
   ]
  },
  {
   "cell_type": "code",
   "execution_count": 14,
   "id": "3c181302-3485-413d-a086-bdb4d0b5ddca",
   "metadata": {},
   "outputs": [
    {
     "name": "stderr",
     "output_type": "stream",
     "text": [
      "15:36:29 - cmdstanpy - INFO - CmdStan start processing\n",
      "chain 1 |\u001b[33m███████████████████████████████████████████████████████████████████████\u001b[0m| 00:00 Sampling completed\u001b[0m"
     ]
    },
    {
     "name": "stdout",
     "output_type": "stream",
     "text": [
      "                                                                                "
     ]
    },
    {
     "name": "stderr",
     "output_type": "stream",
     "text": [
      "\n",
      "15:36:29 - cmdstanpy - INFO - CmdStan done processing.\n",
      "15:36:29 - cmdstanpy - WARNING - Non-fatal error during sampling:\n",
      "Exception: normal_lpdf: Scale parameter is 0, but must be positive! (in '/Users/girlfriend/minipdb/programs/arma-arma11/arma-arma11.stan', line 31, column 2 to column 25)\n",
      "Consider re-running with show_console=True if the above output is unclear!\n",
      "/Users/girlfriend/typical-init/tools.py:7: RuntimeWarning: invalid value encountered in scalar divide\n",
      "  f = np.dot(pf, pt) / (normf * normt)\n",
      "/Users/girlfriend/typical-init/tools.py:8: RuntimeWarning: invalid value encountered in scalar divide\n",
      "  b = np.dot(pb, pt) / (normb * normt)\n",
      "15:36:29 - cmdstanpy - INFO - CmdStan start processing\n"
     ]
    },
    {
     "name": "stdout",
     "output_type": "stream",
     "text": [
      "\n"
     ]
    },
    {
     "name": "stderr",
     "output_type": "stream",
     "text": [
      "chain 1 |\u001b[33m███████████████████████████████████████████████████████████████████████\u001b[0m| 00:00 Sampling completed\u001b[0m"
     ]
    },
    {
     "name": "stdout",
     "output_type": "stream",
     "text": [
      "                                                                                "
     ]
    },
    {
     "name": "stderr",
     "output_type": "stream",
     "text": [
      "\n",
      "15:36:29 - cmdstanpy - INFO - CmdStan done processing.\n",
      "15:36:29 - cmdstanpy - WARNING - Non-fatal error during sampling:\n",
      "Exception: normal_lpdf: Scale parameter is 0, but must be positive! (in '/Users/girlfriend/minipdb/programs/arma-arma11/arma-arma11.stan', line 31, column 2 to column 25)\n",
      "Consider re-running with show_console=True if the above output is unclear!\n",
      "15:36:29 - cmdstanpy - INFO - CmdStan start processing\n"
     ]
    },
    {
     "name": "stdout",
     "output_type": "stream",
     "text": [
      "\n"
     ]
    },
    {
     "name": "stderr",
     "output_type": "stream",
     "text": [
      "chain 1 |\u001b[33m███████████████████████████████████████████████████████████████████████\u001b[0m| 00:00 Sampling completed\u001b[0m\n"
     ]
    },
    {
     "name": "stdout",
     "output_type": "stream",
     "text": [
      "                                                                                "
     ]
    },
    {
     "name": "stderr",
     "output_type": "stream",
     "text": [
      "15:36:29 - cmdstanpy - INFO - CmdStan done processing.\n"
     ]
    },
    {
     "name": "stdout",
     "output_type": "stream",
     "text": [
      "\n"
     ]
    },
    {
     "name": "stderr",
     "output_type": "stream",
     "text": [
      "15:36:29 - cmdstanpy - INFO - CmdStan start processing\n",
      "chain 1 |\u001b[33m███████████████████████████████████████████████████████████████████████\u001b[0m| 00:00 Sampling completed\u001b[0m"
     ]
    },
    {
     "name": "stdout",
     "output_type": "stream",
     "text": [
      "                                                                                "
     ]
    },
    {
     "name": "stderr",
     "output_type": "stream",
     "text": [
      "\n",
      "15:36:29 - cmdstanpy - INFO - CmdStan done processing.\n"
     ]
    },
    {
     "name": "stdout",
     "output_type": "stream",
     "text": [
      "\n"
     ]
    },
    {
     "name": "stderr",
     "output_type": "stream",
     "text": [
      "15:36:30 - cmdstanpy - INFO - CmdStan start processing\n",
      "chain 1 |\u001b[33m███████████████████████████████████████████████████████████████████████\u001b[0m| 00:00 Sampling completed\u001b[0m"
     ]
    },
    {
     "name": "stdout",
     "output_type": "stream",
     "text": [
      "                                                                                "
     ]
    },
    {
     "name": "stderr",
     "output_type": "stream",
     "text": [
      "\n",
      "15:36:30 - cmdstanpy - INFO - CmdStan done processing.\n"
     ]
    },
    {
     "name": "stdout",
     "output_type": "stream",
     "text": [
      "\n"
     ]
    },
    {
     "name": "stderr",
     "output_type": "stream",
     "text": [
      "15:36:30 - cmdstanpy - INFO - CmdStan start processing\n",
      "chain 1 |\u001b[33m███████████████████████████████████████████████████████████████████████\u001b[0m| 00:00 Sampling completed\u001b[0m"
     ]
    },
    {
     "name": "stdout",
     "output_type": "stream",
     "text": [
      "                                                                                "
     ]
    },
    {
     "name": "stderr",
     "output_type": "stream",
     "text": [
      "\n",
      "15:36:30 - cmdstanpy - INFO - CmdStan done processing.\n"
     ]
    },
    {
     "name": "stdout",
     "output_type": "stream",
     "text": [
      "\n"
     ]
    },
    {
     "name": "stderr",
     "output_type": "stream",
     "text": [
      "15:36:30 - cmdstanpy - INFO - CmdStan start processing\n",
      "chain 1 |\u001b[33m███████████████████████████████████████████████████████████████████████\u001b[0m| 00:00 Sampling completed\u001b[0m"
     ]
    },
    {
     "name": "stdout",
     "output_type": "stream",
     "text": [
      "                                                                                "
     ]
    },
    {
     "name": "stderr",
     "output_type": "stream",
     "text": [
      "\n",
      "15:36:30 - cmdstanpy - INFO - CmdStan done processing.\n"
     ]
    },
    {
     "name": "stdout",
     "output_type": "stream",
     "text": [
      "\n"
     ]
    },
    {
     "name": "stderr",
     "output_type": "stream",
     "text": [
      "15:36:30 - cmdstanpy - INFO - CmdStan start processing\n",
      "chain 1 |\u001b[33m███████████████████████████████████████████████████████████████████████\u001b[0m| 00:00 Sampling completed\u001b[0m"
     ]
    },
    {
     "name": "stdout",
     "output_type": "stream",
     "text": [
      "                                                                                "
     ]
    },
    {
     "name": "stderr",
     "output_type": "stream",
     "text": [
      "\n",
      "15:36:30 - cmdstanpy - INFO - CmdStan done processing.\n",
      "/Users/girlfriend/typical-init/tools.py:7: RuntimeWarning: invalid value encountered in scalar divide\n",
      "  f = np.dot(pf, pt) / (normf * normt)\n",
      "/Users/girlfriend/typical-init/tools.py:8: RuntimeWarning: invalid value encountered in scalar divide\n",
      "  b = np.dot(pb, pt) / (normb * normt)\n",
      "15:36:30 - cmdstanpy - INFO - CmdStan start processing\n"
     ]
    },
    {
     "name": "stdout",
     "output_type": "stream",
     "text": [
      "\n"
     ]
    },
    {
     "name": "stderr",
     "output_type": "stream",
     "text": [
      "chain 1 |\u001b[33m███████████████████████████████████████████████████████████████████████\u001b[0m| 00:00 Sampling completed\u001b[0m"
     ]
    },
    {
     "name": "stdout",
     "output_type": "stream",
     "text": [
      "                                                                                "
     ]
    },
    {
     "name": "stderr",
     "output_type": "stream",
     "text": [
      "\n",
      "15:36:30 - cmdstanpy - INFO - CmdStan done processing.\n"
     ]
    },
    {
     "name": "stdout",
     "output_type": "stream",
     "text": [
      "\n"
     ]
    },
    {
     "name": "stderr",
     "output_type": "stream",
     "text": [
      "15:36:30 - cmdstanpy - INFO - CmdStan start processing\n",
      "chain 1 |\u001b[33m███████████████████████████████████████████████████████████████████████\u001b[0m| 00:00 Sampling completed\u001b[0m"
     ]
    },
    {
     "name": "stdout",
     "output_type": "stream",
     "text": [
      "                                                                                "
     ]
    },
    {
     "name": "stderr",
     "output_type": "stream",
     "text": [
      "\n",
      "15:36:30 - cmdstanpy - INFO - CmdStan done processing.\n",
      "/Users/girlfriend/typical-init/tools.py:7: RuntimeWarning: invalid value encountered in scalar divide\n",
      "  f = np.dot(pf, pt) / (normf * normt)\n",
      "/Users/girlfriend/typical-init/tools.py:8: RuntimeWarning: invalid value encountered in scalar divide\n",
      "  b = np.dot(pb, pt) / (normb * normt)\n",
      "15:36:30 - cmdstanpy - INFO - CmdStan start processing\n"
     ]
    },
    {
     "name": "stdout",
     "output_type": "stream",
     "text": [
      "\n"
     ]
    },
    {
     "name": "stderr",
     "output_type": "stream",
     "text": [
      "chain 1 |\u001b[33m███████████████████████████████████████████████████████████████████████\u001b[0m| 00:00 Sampling completed\u001b[0m\n"
     ]
    },
    {
     "name": "stdout",
     "output_type": "stream",
     "text": [
      "                                                                                "
     ]
    },
    {
     "name": "stderr",
     "output_type": "stream",
     "text": [
      "15:36:30 - cmdstanpy - INFO - CmdStan done processing.\n",
      "/Users/girlfriend/typical-init/tools.py:7: RuntimeWarning: invalid value encountered in scalar divide\n",
      "  f = np.dot(pf, pt) / (normf * normt)\n",
      "/Users/girlfriend/typical-init/tools.py:8: RuntimeWarning: invalid value encountered in scalar divide\n",
      "  b = np.dot(pb, pt) / (normb * normt)\n",
      "15:36:30 - cmdstanpy - INFO - CmdStan start processing\n"
     ]
    },
    {
     "name": "stdout",
     "output_type": "stream",
     "text": [
      "\n"
     ]
    },
    {
     "name": "stderr",
     "output_type": "stream",
     "text": [
      "chain 1 |\u001b[33m███████████████████████████████████████████████████████████████████████\u001b[0m| 00:00 Sampling completed\u001b[0m"
     ]
    },
    {
     "name": "stdout",
     "output_type": "stream",
     "text": [
      "                                                                                "
     ]
    },
    {
     "name": "stderr",
     "output_type": "stream",
     "text": [
      "\n",
      "15:36:30 - cmdstanpy - INFO - CmdStan done processing.\n",
      "15:36:30 - cmdstanpy - INFO - CmdStan start processing\n"
     ]
    },
    {
     "name": "stdout",
     "output_type": "stream",
     "text": [
      "\n"
     ]
    },
    {
     "name": "stderr",
     "output_type": "stream",
     "text": [
      "chain 1 |\u001b[33m███████████████████████████████████████████████████████████████████████\u001b[0m| 00:00 Sampling completed\u001b[0m"
     ]
    },
    {
     "name": "stdout",
     "output_type": "stream",
     "text": [
      "                                                                                "
     ]
    },
    {
     "name": "stderr",
     "output_type": "stream",
     "text": [
      "\n",
      "15:36:30 - cmdstanpy - INFO - CmdStan done processing.\n",
      "15:36:30 - cmdstanpy - WARNING - Non-fatal error during sampling:\n",
      "Exception: normal_lpdf: Scale parameter is 0, but must be positive! (in '/Users/girlfriend/minipdb/programs/arma-arma11/arma-arma11.stan', line 31, column 2 to column 25)\n",
      "Consider re-running with show_console=True if the above output is unclear!\n"
     ]
    },
    {
     "name": "stdout",
     "output_type": "stream",
     "text": [
      "\n"
     ]
    },
    {
     "name": "stderr",
     "output_type": "stream",
     "text": [
      "15:36:30 - cmdstanpy - INFO - CmdStan start processing\n",
      "chain 1 |\u001b[33m███████████████████████████████████████████████████████████████████████\u001b[0m| 00:00 Sampling completed\u001b[0m"
     ]
    },
    {
     "name": "stdout",
     "output_type": "stream",
     "text": [
      "                                                                                "
     ]
    },
    {
     "name": "stderr",
     "output_type": "stream",
     "text": [
      "\n",
      "15:36:30 - cmdstanpy - INFO - CmdStan done processing.\n",
      "15:36:30 - cmdstanpy - WARNING - Non-fatal error during sampling:\n",
      "Exception: normal_lpdf: Scale parameter is 0, but must be positive! (in '/Users/girlfriend/minipdb/programs/arma-arma11/arma-arma11.stan', line 31, column 2 to column 25)\n",
      "Consider re-running with show_console=True if the above output is unclear!\n",
      "/Users/girlfriend/typical-init/tools.py:7: RuntimeWarning: invalid value encountered in scalar divide\n",
      "  f = np.dot(pf, pt) / (normf * normt)\n",
      "/Users/girlfriend/typical-init/tools.py:8: RuntimeWarning: invalid value encountered in scalar divide\n",
      "  b = np.dot(pb, pt) / (normb * normt)\n"
     ]
    },
    {
     "name": "stdout",
     "output_type": "stream",
     "text": [
      "\n"
     ]
    },
    {
     "name": "stderr",
     "output_type": "stream",
     "text": [
      "15:36:30 - cmdstanpy - INFO - CmdStan start processing\n",
      "chain 1 |\u001b[33m███████████████████████████████████████████████████████████████████████\u001b[0m| 00:00 Sampling completed\u001b[0m"
     ]
    },
    {
     "name": "stdout",
     "output_type": "stream",
     "text": [
      "                                                                                "
     ]
    },
    {
     "name": "stderr",
     "output_type": "stream",
     "text": [
      "\n",
      "15:36:30 - cmdstanpy - INFO - CmdStan done processing.\n",
      "15:36:30 - cmdstanpy - INFO - CmdStan start processing\n"
     ]
    },
    {
     "name": "stdout",
     "output_type": "stream",
     "text": [
      "\n"
     ]
    },
    {
     "name": "stderr",
     "output_type": "stream",
     "text": [
      "chain 1 |\u001b[33m███████████████████████████████████████████████████████████████████████\u001b[0m| 00:00 Sampling completed\u001b[0m"
     ]
    },
    {
     "name": "stdout",
     "output_type": "stream",
     "text": [
      "                                                                                "
     ]
    },
    {
     "name": "stderr",
     "output_type": "stream",
     "text": [
      "\n",
      "15:36:31 - cmdstanpy - INFO - CmdStan done processing.\n",
      "15:36:31 - cmdstanpy - WARNING - Non-fatal error during sampling:\n",
      "Exception: normal_lpdf: Scale parameter is 0, but must be positive! (in '/Users/girlfriend/minipdb/programs/arma-arma11/arma-arma11.stan', line 31, column 2 to column 25)\n",
      "Consider re-running with show_console=True if the above output is unclear!\n"
     ]
    },
    {
     "name": "stdout",
     "output_type": "stream",
     "text": [
      "\n"
     ]
    },
    {
     "name": "stderr",
     "output_type": "stream",
     "text": [
      "15:36:31 - cmdstanpy - INFO - CmdStan start processing\n",
      "chain 1 |\u001b[33m███████████████████████████████████████████████████████████████████████\u001b[0m| 00:00 Sampling completed\u001b[0m"
     ]
    },
    {
     "name": "stdout",
     "output_type": "stream",
     "text": [
      "                                                                                "
     ]
    },
    {
     "name": "stderr",
     "output_type": "stream",
     "text": [
      "\n",
      "15:36:31 - cmdstanpy - INFO - CmdStan done processing.\n"
     ]
    },
    {
     "name": "stdout",
     "output_type": "stream",
     "text": [
      "\n"
     ]
    },
    {
     "name": "stderr",
     "output_type": "stream",
     "text": [
      "15:36:31 - cmdstanpy - INFO - CmdStan start processing\n",
      "chain 1 |\u001b[33m███████████████████████████████████████████████████████████████████████\u001b[0m| 00:00 Sampling completed\u001b[0m"
     ]
    },
    {
     "name": "stdout",
     "output_type": "stream",
     "text": [
      "                                                                                "
     ]
    },
    {
     "name": "stderr",
     "output_type": "stream",
     "text": [
      "\n",
      "15:36:31 - cmdstanpy - INFO - CmdStan done processing.\n",
      "15:36:31 - cmdstanpy - WARNING - Non-fatal error during sampling:\n",
      "Exception: normal_lpdf: Scale parameter is 0, but must be positive! (in '/Users/girlfriend/minipdb/programs/arma-arma11/arma-arma11.stan', line 31, column 2 to column 25)\n",
      "Consider re-running with show_console=True if the above output is unclear!\n"
     ]
    },
    {
     "name": "stdout",
     "output_type": "stream",
     "text": [
      "\n"
     ]
    },
    {
     "name": "stderr",
     "output_type": "stream",
     "text": [
      "15:36:31 - cmdstanpy - INFO - CmdStan start processing\n",
      "chain 1 |\u001b[33m███████████████████████████████████████████████████████████████████████\u001b[0m| 00:00 Sampling completed\u001b[0m"
     ]
    },
    {
     "name": "stdout",
     "output_type": "stream",
     "text": [
      "                                                                                "
     ]
    },
    {
     "name": "stderr",
     "output_type": "stream",
     "text": [
      "\n",
      "15:36:31 - cmdstanpy - INFO - CmdStan done processing.\n"
     ]
    },
    {
     "name": "stdout",
     "output_type": "stream",
     "text": [
      "\n"
     ]
    },
    {
     "name": "stderr",
     "output_type": "stream",
     "text": [
      "15:36:31 - cmdstanpy - INFO - CmdStan start processing\n",
      "chain 1 |\u001b[33m███████████████████████████████████████████████████████████████████████\u001b[0m| 00:00 Sampling completed\u001b[0m"
     ]
    },
    {
     "name": "stdout",
     "output_type": "stream",
     "text": [
      "                                                                                "
     ]
    },
    {
     "name": "stderr",
     "output_type": "stream",
     "text": [
      "\n",
      "15:36:31 - cmdstanpy - INFO - CmdStan done processing.\n"
     ]
    },
    {
     "name": "stdout",
     "output_type": "stream",
     "text": [
      "\n"
     ]
    },
    {
     "name": "stderr",
     "output_type": "stream",
     "text": [
      "15:36:31 - cmdstanpy - INFO - CmdStan start processing\n",
      "chain 1 |\u001b[33m███████████████████████████████████████████████████████████████████████\u001b[0m| 00:00 Sampling completed\u001b[0m"
     ]
    },
    {
     "name": "stdout",
     "output_type": "stream",
     "text": [
      "                                                                                "
     ]
    },
    {
     "name": "stderr",
     "output_type": "stream",
     "text": [
      "\n",
      "15:36:31 - cmdstanpy - INFO - CmdStan done processing.\n"
     ]
    },
    {
     "name": "stdout",
     "output_type": "stream",
     "text": [
      "\n"
     ]
    },
    {
     "name": "stderr",
     "output_type": "stream",
     "text": [
      "15:36:31 - cmdstanpy - INFO - CmdStan start processing\n",
      "chain 1 |\u001b[33m███████████████████████████████████████████████████████████████████████\u001b[0m| 00:00 Sampling completed\u001b[0m"
     ]
    },
    {
     "name": "stdout",
     "output_type": "stream",
     "text": [
      "                                                                                "
     ]
    },
    {
     "name": "stderr",
     "output_type": "stream",
     "text": [
      "\n",
      "15:36:31 - cmdstanpy - INFO - CmdStan done processing.\n",
      "/Users/girlfriend/typical-init/tools.py:7: RuntimeWarning: invalid value encountered in scalar divide\n",
      "  f = np.dot(pf, pt) / (normf * normt)\n",
      "/Users/girlfriend/typical-init/tools.py:8: RuntimeWarning: invalid value encountered in scalar divide\n",
      "  b = np.dot(pb, pt) / (normb * normt)\n",
      "15:36:31 - cmdstanpy - INFO - CmdStan start processing\n"
     ]
    },
    {
     "name": "stdout",
     "output_type": "stream",
     "text": [
      "\n"
     ]
    },
    {
     "name": "stderr",
     "output_type": "stream",
     "text": [
      "chain 1 |\u001b[33m███████████████████████████████████████████████████████████████████████\u001b[0m| 00:00 Sampling completed\u001b[0m"
     ]
    },
    {
     "name": "stdout",
     "output_type": "stream",
     "text": [
      "                                                                                "
     ]
    },
    {
     "name": "stderr",
     "output_type": "stream",
     "text": [
      "\n",
      "15:36:31 - cmdstanpy - INFO - CmdStan done processing.\n",
      "15:36:31 - cmdstanpy - WARNING - Non-fatal error during sampling:\n",
      "Exception: normal_lpdf: Scale parameter is 0, but must be positive! (in '/Users/girlfriend/minipdb/programs/arma-arma11/arma-arma11.stan', line 31, column 2 to column 25)\n",
      "Consider re-running with show_console=True if the above output is unclear!\n"
     ]
    },
    {
     "name": "stdout",
     "output_type": "stream",
     "text": [
      "\n"
     ]
    },
    {
     "name": "stderr",
     "output_type": "stream",
     "text": [
      "15:36:31 - cmdstanpy - INFO - CmdStan start processing\n",
      "chain 1 |\u001b[33m███████████████████████████████████████████████████████████████████████\u001b[0m| 00:00 Sampling completed\u001b[0m"
     ]
    },
    {
     "name": "stdout",
     "output_type": "stream",
     "text": [
      "                                                                                "
     ]
    },
    {
     "name": "stderr",
     "output_type": "stream",
     "text": [
      "\n",
      "15:36:31 - cmdstanpy - INFO - CmdStan done processing.\n",
      "/Users/girlfriend/typical-init/tools.py:7: RuntimeWarning: invalid value encountered in scalar divide\n",
      "  f = np.dot(pf, pt) / (normf * normt)\n",
      "/Users/girlfriend/typical-init/tools.py:8: RuntimeWarning: invalid value encountered in scalar divide\n",
      "  b = np.dot(pb, pt) / (normb * normt)\n",
      "15:36:31 - cmdstanpy - INFO - CmdStan start processing\n"
     ]
    },
    {
     "name": "stdout",
     "output_type": "stream",
     "text": [
      "\n"
     ]
    },
    {
     "name": "stderr",
     "output_type": "stream",
     "text": [
      "chain 1 |\u001b[33m███████████████████████████████████████████████████████████████████████\u001b[0m| 00:00 Sampling completed\u001b[0m"
     ]
    },
    {
     "name": "stdout",
     "output_type": "stream",
     "text": [
      "                                                                                "
     ]
    },
    {
     "name": "stderr",
     "output_type": "stream",
     "text": [
      "\n",
      "15:36:31 - cmdstanpy - INFO - CmdStan done processing.\n",
      "15:36:31 - cmdstanpy - INFO - CmdStan start processing\n"
     ]
    },
    {
     "name": "stdout",
     "output_type": "stream",
     "text": [
      "\n"
     ]
    },
    {
     "name": "stderr",
     "output_type": "stream",
     "text": [
      "chain 1 |\u001b[33m███████████████████████████████████████████████████████████████████████\u001b[0m| 00:00 Sampling completed\u001b[0m"
     ]
    },
    {
     "name": "stdout",
     "output_type": "stream",
     "text": [
      "                                                                                "
     ]
    },
    {
     "name": "stderr",
     "output_type": "stream",
     "text": [
      "\n",
      "15:36:31 - cmdstanpy - INFO - CmdStan done processing.\n",
      "15:36:31 - cmdstanpy - WARNING - Non-fatal error during sampling:\n",
      "Exception: normal_lpdf: Scale parameter is 0, but must be positive! (in '/Users/girlfriend/minipdb/programs/arma-arma11/arma-arma11.stan', line 31, column 2 to column 25)\n",
      "Consider re-running with show_console=True if the above output is unclear!\n"
     ]
    },
    {
     "name": "stdout",
     "output_type": "stream",
     "text": [
      "\n"
     ]
    },
    {
     "name": "stderr",
     "output_type": "stream",
     "text": [
      "15:36:32 - cmdstanpy - INFO - CmdStan start processing\n",
      "chain 1 |\u001b[33m███████████████████████████████████████████████████████████████████████\u001b[0m| 00:00 Sampling completed\u001b[0m"
     ]
    },
    {
     "name": "stdout",
     "output_type": "stream",
     "text": [
      "                                                                                "
     ]
    },
    {
     "name": "stderr",
     "output_type": "stream",
     "text": [
      "\n",
      "15:36:32 - cmdstanpy - INFO - CmdStan done processing.\n",
      "/Users/girlfriend/typical-init/tools.py:7: RuntimeWarning: invalid value encountered in scalar divide\n",
      "  f = np.dot(pf, pt) / (normf * normt)\n",
      "/Users/girlfriend/typical-init/tools.py:8: RuntimeWarning: invalid value encountered in scalar divide\n",
      "  b = np.dot(pb, pt) / (normb * normt)\n",
      "15:36:32 - cmdstanpy - INFO - CmdStan start processing\n"
     ]
    },
    {
     "name": "stdout",
     "output_type": "stream",
     "text": [
      "\n"
     ]
    },
    {
     "name": "stderr",
     "output_type": "stream",
     "text": [
      "chain 1 |\u001b[33m███████████████████████████████████████████████████████████████████████\u001b[0m| 00:00 Sampling completed\u001b[0m"
     ]
    },
    {
     "name": "stdout",
     "output_type": "stream",
     "text": [
      "                                                                                "
     ]
    },
    {
     "name": "stderr",
     "output_type": "stream",
     "text": [
      "\n",
      "15:36:32 - cmdstanpy - INFO - CmdStan done processing.\n",
      "/Users/girlfriend/typical-init/tools.py:7: RuntimeWarning: invalid value encountered in scalar divide\n",
      "  f = np.dot(pf, pt) / (normf * normt)\n",
      "/Users/girlfriend/typical-init/tools.py:8: RuntimeWarning: invalid value encountered in scalar divide\n",
      "  b = np.dot(pb, pt) / (normb * normt)\n",
      "15:36:32 - cmdstanpy - INFO - CmdStan start processing\n"
     ]
    },
    {
     "name": "stdout",
     "output_type": "stream",
     "text": [
      "\n"
     ]
    },
    {
     "name": "stderr",
     "output_type": "stream",
     "text": [
      "chain 1 |\u001b[33m███████████████████████████████████████████████████████████████████████\u001b[0m| 00:00 Sampling completed\u001b[0m"
     ]
    },
    {
     "name": "stdout",
     "output_type": "stream",
     "text": [
      "                                                                                "
     ]
    },
    {
     "name": "stderr",
     "output_type": "stream",
     "text": [
      "\n",
      "15:36:32 - cmdstanpy - INFO - CmdStan done processing.\n"
     ]
    },
    {
     "name": "stdout",
     "output_type": "stream",
     "text": [
      "\n"
     ]
    },
    {
     "name": "stderr",
     "output_type": "stream",
     "text": [
      "15:36:32 - cmdstanpy - INFO - CmdStan start processing\n",
      "chain 1 |\u001b[33m███████████████████████████████████████████████████████████████████████\u001b[0m| 00:00 Sampling completed\u001b[0m"
     ]
    },
    {
     "name": "stdout",
     "output_type": "stream",
     "text": [
      "                                                                                "
     ]
    },
    {
     "name": "stderr",
     "output_type": "stream",
     "text": [
      "\n",
      "15:36:32 - cmdstanpy - INFO - CmdStan done processing.\n",
      "/Users/girlfriend/typical-init/tools.py:7: RuntimeWarning: invalid value encountered in scalar divide\n",
      "  f = np.dot(pf, pt) / (normf * normt)\n",
      "/Users/girlfriend/typical-init/tools.py:8: RuntimeWarning: invalid value encountered in scalar divide\n",
      "  b = np.dot(pb, pt) / (normb * normt)\n"
     ]
    },
    {
     "name": "stdout",
     "output_type": "stream",
     "text": [
      "\n"
     ]
    },
    {
     "name": "stderr",
     "output_type": "stream",
     "text": [
      "15:36:32 - cmdstanpy - INFO - CmdStan start processing\n",
      "chain 1 |\u001b[33m███████████████████████████████████████████████████████████████████████\u001b[0m| 00:00 Sampling completed\u001b[0m"
     ]
    },
    {
     "name": "stdout",
     "output_type": "stream",
     "text": [
      "                                                                                "
     ]
    },
    {
     "name": "stderr",
     "output_type": "stream",
     "text": [
      "\n",
      "15:36:32 - cmdstanpy - INFO - CmdStan done processing.\n",
      "15:36:32 - cmdstanpy - INFO - CmdStan start processing\n"
     ]
    },
    {
     "name": "stdout",
     "output_type": "stream",
     "text": [
      "\n"
     ]
    },
    {
     "name": "stderr",
     "output_type": "stream",
     "text": [
      "chain 1 |\u001b[33m███████████████████████████████████████████████████████████████████████\u001b[0m| 00:00 Sampling completed\u001b[0m"
     ]
    },
    {
     "name": "stdout",
     "output_type": "stream",
     "text": [
      "                                                                                "
     ]
    },
    {
     "name": "stderr",
     "output_type": "stream",
     "text": [
      "\n",
      "15:36:32 - cmdstanpy - INFO - CmdStan done processing.\n",
      "/Users/girlfriend/typical-init/tools.py:7: RuntimeWarning: invalid value encountered in scalar divide\n",
      "  f = np.dot(pf, pt) / (normf * normt)\n",
      "/Users/girlfriend/typical-init/tools.py:8: RuntimeWarning: invalid value encountered in scalar divide\n",
      "  b = np.dot(pb, pt) / (normb * normt)\n",
      "15:36:32 - cmdstanpy - INFO - CmdStan start processing\n"
     ]
    },
    {
     "name": "stdout",
     "output_type": "stream",
     "text": [
      "\n"
     ]
    },
    {
     "name": "stderr",
     "output_type": "stream",
     "text": [
      "chain 1 |\u001b[33m███████████████████████████████████████████████████████████████████████\u001b[0m| 00:00 Sampling completed\u001b[0m"
     ]
    },
    {
     "name": "stdout",
     "output_type": "stream",
     "text": [
      "                                                                                "
     ]
    },
    {
     "name": "stderr",
     "output_type": "stream",
     "text": [
      "\n",
      "15:36:32 - cmdstanpy - INFO - CmdStan done processing.\n",
      "15:36:32 - cmdstanpy - INFO - CmdStan start processing\n"
     ]
    },
    {
     "name": "stdout",
     "output_type": "stream",
     "text": [
      "\n"
     ]
    },
    {
     "name": "stderr",
     "output_type": "stream",
     "text": [
      "chain 1 |\u001b[33m███████████████████████████████████████████████████████████████████████\u001b[0m| 00:00 Sampling completed\u001b[0m"
     ]
    },
    {
     "name": "stdout",
     "output_type": "stream",
     "text": [
      "                                                                                "
     ]
    },
    {
     "name": "stderr",
     "output_type": "stream",
     "text": [
      "\n",
      "15:36:32 - cmdstanpy - INFO - CmdStan done processing.\n",
      "/Users/girlfriend/typical-init/tools.py:7: RuntimeWarning: invalid value encountered in scalar divide\n",
      "  f = np.dot(pf, pt) / (normf * normt)\n",
      "/Users/girlfriend/typical-init/tools.py:8: RuntimeWarning: invalid value encountered in scalar divide\n",
      "  b = np.dot(pb, pt) / (normb * normt)\n",
      "15:36:32 - cmdstanpy - INFO - CmdStan start processing\n"
     ]
    },
    {
     "name": "stdout",
     "output_type": "stream",
     "text": [
      "\n"
     ]
    },
    {
     "name": "stderr",
     "output_type": "stream",
     "text": [
      "chain 1 |\u001b[33m███████████████████████████████████████████████████████████████████████\u001b[0m| 00:00 Sampling completed\u001b[0m"
     ]
    },
    {
     "name": "stdout",
     "output_type": "stream",
     "text": [
      "                                                                                "
     ]
    },
    {
     "name": "stderr",
     "output_type": "stream",
     "text": [
      "\n",
      "15:36:32 - cmdstanpy - INFO - CmdStan done processing.\n",
      "15:36:32 - cmdstanpy - INFO - CmdStan start processing\n"
     ]
    },
    {
     "name": "stdout",
     "output_type": "stream",
     "text": [
      "\n"
     ]
    },
    {
     "name": "stderr",
     "output_type": "stream",
     "text": [
      "chain 1 |\u001b[33m███████████████████████████████████████████████████████████████████████\u001b[0m| 00:00 Sampling completed\u001b[0m"
     ]
    },
    {
     "name": "stdout",
     "output_type": "stream",
     "text": [
      "                                                                                "
     ]
    },
    {
     "name": "stderr",
     "output_type": "stream",
     "text": [
      "\n",
      "15:36:32 - cmdstanpy - INFO - CmdStan done processing.\n",
      "15:36:32 - cmdstanpy - INFO - CmdStan start processing\n"
     ]
    },
    {
     "name": "stdout",
     "output_type": "stream",
     "text": [
      "\n"
     ]
    },
    {
     "name": "stderr",
     "output_type": "stream",
     "text": [
      "chain 1 |\u001b[33m███████████████████████████████████████████████████████████████████████\u001b[0m| 00:00 Sampling completed\u001b[0m"
     ]
    },
    {
     "name": "stdout",
     "output_type": "stream",
     "text": [
      "                                                                                "
     ]
    },
    {
     "name": "stderr",
     "output_type": "stream",
     "text": [
      "\n",
      "15:36:32 - cmdstanpy - INFO - CmdStan done processing.\n",
      "15:36:32 - cmdstanpy - INFO - CmdStan start processing\n"
     ]
    },
    {
     "name": "stdout",
     "output_type": "stream",
     "text": [
      "\n"
     ]
    },
    {
     "name": "stderr",
     "output_type": "stream",
     "text": [
      "chain 1 |\u001b[33m███████████████████████████████████████████████████████████████████████\u001b[0m| 00:00 Sampling completed\u001b[0m"
     ]
    },
    {
     "name": "stdout",
     "output_type": "stream",
     "text": [
      "                                                                                "
     ]
    },
    {
     "name": "stderr",
     "output_type": "stream",
     "text": [
      "\n",
      "15:36:32 - cmdstanpy - INFO - CmdStan done processing.\n",
      "/Users/girlfriend/typical-init/tools.py:7: RuntimeWarning: invalid value encountered in scalar divide\n",
      "  f = np.dot(pf, pt) / (normf * normt)\n",
      "/Users/girlfriend/typical-init/tools.py:8: RuntimeWarning: invalid value encountered in scalar divide\n",
      "  b = np.dot(pb, pt) / (normb * normt)\n",
      "15:36:32 - cmdstanpy - INFO - CmdStan start processing\n"
     ]
    },
    {
     "name": "stdout",
     "output_type": "stream",
     "text": [
      "\n"
     ]
    },
    {
     "name": "stderr",
     "output_type": "stream",
     "text": [
      "chain 1 |\u001b[33m███████████████████████████████████████████████████████████████████████\u001b[0m| 00:00 Sampling completed\u001b[0m"
     ]
    },
    {
     "name": "stdout",
     "output_type": "stream",
     "text": [
      "                                                                                "
     ]
    },
    {
     "name": "stderr",
     "output_type": "stream",
     "text": [
      "\n",
      "15:36:32 - cmdstanpy - INFO - CmdStan done processing.\n"
     ]
    },
    {
     "name": "stdout",
     "output_type": "stream",
     "text": [
      "\n"
     ]
    },
    {
     "name": "stderr",
     "output_type": "stream",
     "text": [
      "15:36:33 - cmdstanpy - INFO - CmdStan start processing\n",
      "chain 1 |\u001b[33m███████████████████████████████████████████████████████████████████████\u001b[0m| 00:00 Sampling completed\u001b[0m"
     ]
    },
    {
     "name": "stdout",
     "output_type": "stream",
     "text": [
      "                                                                                "
     ]
    },
    {
     "name": "stderr",
     "output_type": "stream",
     "text": [
      "\n",
      "15:36:33 - cmdstanpy - INFO - CmdStan done processing.\n"
     ]
    },
    {
     "name": "stdout",
     "output_type": "stream",
     "text": [
      "\n"
     ]
    },
    {
     "name": "stderr",
     "output_type": "stream",
     "text": [
      "15:36:33 - cmdstanpy - INFO - CmdStan start processing\n",
      "chain 1 |\u001b[33m███████████████████████████████████████████████████████████████████████\u001b[0m| 00:00 Sampling completed\u001b[0m"
     ]
    },
    {
     "name": "stdout",
     "output_type": "stream",
     "text": [
      "                                                                                "
     ]
    },
    {
     "name": "stderr",
     "output_type": "stream",
     "text": [
      "\n",
      "15:36:33 - cmdstanpy - INFO - CmdStan done processing.\n"
     ]
    },
    {
     "name": "stdout",
     "output_type": "stream",
     "text": [
      "\n"
     ]
    },
    {
     "name": "stderr",
     "output_type": "stream",
     "text": [
      "15:36:33 - cmdstanpy - INFO - CmdStan start processing\n",
      "chain 1 |\u001b[33m███████████████████████████████████████████████████████████████████████\u001b[0m| 00:00 Sampling completed\u001b[0m"
     ]
    },
    {
     "name": "stdout",
     "output_type": "stream",
     "text": [
      "                                                                                "
     ]
    },
    {
     "name": "stderr",
     "output_type": "stream",
     "text": [
      "\n",
      "15:36:33 - cmdstanpy - INFO - CmdStan done processing.\n"
     ]
    },
    {
     "name": "stdout",
     "output_type": "stream",
     "text": [
      "\n"
     ]
    },
    {
     "name": "stderr",
     "output_type": "stream",
     "text": [
      "15:36:33 - cmdstanpy - INFO - CmdStan start processing\n",
      "chain 1 |\u001b[33m███████████████████████████████████████████████████████████████████████\u001b[0m| 00:00 Sampling completed\u001b[0m"
     ]
    },
    {
     "name": "stdout",
     "output_type": "stream",
     "text": [
      "                                                                                "
     ]
    },
    {
     "name": "stderr",
     "output_type": "stream",
     "text": [
      "\n",
      "15:36:33 - cmdstanpy - INFO - CmdStan done processing.\n"
     ]
    },
    {
     "name": "stdout",
     "output_type": "stream",
     "text": [
      "\n"
     ]
    },
    {
     "name": "stderr",
     "output_type": "stream",
     "text": [
      "15:36:33 - cmdstanpy - INFO - CmdStan start processing\n",
      "chain 1 |\u001b[33m███████████████████████████████████████████████████████████████████████\u001b[0m| 00:00 Sampling completed\u001b[0m"
     ]
    },
    {
     "name": "stdout",
     "output_type": "stream",
     "text": [
      "                                                                                "
     ]
    },
    {
     "name": "stderr",
     "output_type": "stream",
     "text": [
      "\n",
      "15:36:33 - cmdstanpy - INFO - CmdStan done processing.\n"
     ]
    },
    {
     "name": "stdout",
     "output_type": "stream",
     "text": [
      "\n"
     ]
    },
    {
     "name": "stderr",
     "output_type": "stream",
     "text": [
      "15:36:33 - cmdstanpy - INFO - CmdStan start processing\n",
      "chain 1 |\u001b[33m███████████████████████████████████████████████████████████████████████\u001b[0m| 00:00 Sampling completed\u001b[0m"
     ]
    },
    {
     "name": "stdout",
     "output_type": "stream",
     "text": [
      "                                                                                "
     ]
    },
    {
     "name": "stderr",
     "output_type": "stream",
     "text": [
      "\n",
      "15:36:33 - cmdstanpy - INFO - CmdStan done processing.\n",
      "15:36:33 - cmdstanpy - WARNING - Non-fatal error during sampling:\n",
      "Exception: normal_lpdf: Scale parameter is 0, but must be positive! (in '/Users/girlfriend/minipdb/programs/arma-arma11/arma-arma11.stan', line 31, column 2 to column 25)\n",
      "Consider re-running with show_console=True if the above output is unclear!\n",
      "15:36:33 - cmdstanpy - INFO - CmdStan start processing\n"
     ]
    },
    {
     "name": "stdout",
     "output_type": "stream",
     "text": [
      "\n"
     ]
    },
    {
     "name": "stderr",
     "output_type": "stream",
     "text": [
      "chain 1 |\u001b[33m███████████████████████████████████████████████████████████████████████\u001b[0m| 00:00 Sampling completed\u001b[0m"
     ]
    },
    {
     "name": "stdout",
     "output_type": "stream",
     "text": [
      "                                                                                "
     ]
    },
    {
     "name": "stderr",
     "output_type": "stream",
     "text": [
      "\n",
      "15:36:33 - cmdstanpy - INFO - CmdStan done processing.\n",
      "/Users/girlfriend/typical-init/tools.py:7: RuntimeWarning: invalid value encountered in scalar divide\n",
      "  f = np.dot(pf, pt) / (normf * normt)\n",
      "/Users/girlfriend/typical-init/tools.py:8: RuntimeWarning: invalid value encountered in scalar divide\n",
      "  b = np.dot(pb, pt) / (normb * normt)\n"
     ]
    },
    {
     "name": "stdout",
     "output_type": "stream",
     "text": [
      "\n"
     ]
    },
    {
     "name": "stderr",
     "output_type": "stream",
     "text": [
      "15:36:33 - cmdstanpy - INFO - CmdStan start processing\n",
      "chain 1 |\u001b[33m███████████████████████████████████████████████████████████████████████\u001b[0m| 00:00 Sampling completed\u001b[0m"
     ]
    },
    {
     "name": "stdout",
     "output_type": "stream",
     "text": [
      "                                                                                "
     ]
    },
    {
     "name": "stderr",
     "output_type": "stream",
     "text": [
      "\n",
      "15:36:33 - cmdstanpy - INFO - CmdStan done processing.\n",
      "15:36:33 - cmdstanpy - WARNING - Non-fatal error during sampling:\n",
      "Exception: normal_lpdf: Scale parameter is 0, but must be positive! (in '/Users/girlfriend/minipdb/programs/arma-arma11/arma-arma11.stan', line 31, column 2 to column 25)\n",
      "Consider re-running with show_console=True if the above output is unclear!\n",
      "/Users/girlfriend/typical-init/tools.py:7: RuntimeWarning: invalid value encountered in scalar divide\n",
      "  f = np.dot(pf, pt) / (normf * normt)\n",
      "/Users/girlfriend/typical-init/tools.py:8: RuntimeWarning: invalid value encountered in scalar divide\n",
      "  b = np.dot(pb, pt) / (normb * normt)\n"
     ]
    },
    {
     "name": "stdout",
     "output_type": "stream",
     "text": [
      "\n"
     ]
    },
    {
     "name": "stderr",
     "output_type": "stream",
     "text": [
      "15:36:33 - cmdstanpy - INFO - CmdStan start processing\n",
      "chain 1 |\u001b[33m███████████████████████████████████████████████████████████████████████\u001b[0m| 00:00 Sampling completed\u001b[0m"
     ]
    },
    {
     "name": "stdout",
     "output_type": "stream",
     "text": [
      "                                                                                "
     ]
    },
    {
     "name": "stderr",
     "output_type": "stream",
     "text": [
      "\n",
      "15:36:33 - cmdstanpy - INFO - CmdStan done processing.\n"
     ]
    },
    {
     "name": "stdout",
     "output_type": "stream",
     "text": [
      "\n"
     ]
    },
    {
     "name": "stderr",
     "output_type": "stream",
     "text": [
      "15:36:33 - cmdstanpy - INFO - CmdStan start processing\n",
      "chain 1 |\u001b[33m███████████████████████████████████████████████████████████████████████\u001b[0m| 00:00 Sampling completed\u001b[0m\n"
     ]
    },
    {
     "name": "stdout",
     "output_type": "stream",
     "text": [
      "                                                                                "
     ]
    },
    {
     "name": "stderr",
     "output_type": "stream",
     "text": [
      "15:36:33 - cmdstanpy - INFO - CmdStan done processing.\n"
     ]
    },
    {
     "name": "stdout",
     "output_type": "stream",
     "text": [
      "\n"
     ]
    },
    {
     "name": "stderr",
     "output_type": "stream",
     "text": [
      "15:36:33 - cmdstanpy - INFO - CmdStan start processing\n",
      "chain 1 |\u001b[33m███████████████████████████████████████████████████████████████████████\u001b[0m| 00:00 Sampling completed\u001b[0m"
     ]
    },
    {
     "name": "stdout",
     "output_type": "stream",
     "text": [
      "                                                                                "
     ]
    },
    {
     "name": "stderr",
     "output_type": "stream",
     "text": [
      "\n",
      "15:36:33 - cmdstanpy - INFO - CmdStan done processing.\n",
      "/Users/girlfriend/typical-init/tools.py:7: RuntimeWarning: invalid value encountered in scalar divide\n",
      "  f = np.dot(pf, pt) / (normf * normt)\n",
      "/Users/girlfriend/typical-init/tools.py:8: RuntimeWarning: invalid value encountered in scalar divide\n",
      "  b = np.dot(pb, pt) / (normb * normt)\n"
     ]
    },
    {
     "name": "stdout",
     "output_type": "stream",
     "text": [
      "\n"
     ]
    },
    {
     "name": "stderr",
     "output_type": "stream",
     "text": [
      "15:36:34 - cmdstanpy - INFO - CmdStan start processing\n",
      "chain 1 |\u001b[33m███████████████████████████████████████████████████████████████████████\u001b[0m| 00:00 Sampling completed\u001b[0m"
     ]
    },
    {
     "name": "stdout",
     "output_type": "stream",
     "text": [
      "                                                                                "
     ]
    },
    {
     "name": "stderr",
     "output_type": "stream",
     "text": [
      "\n",
      "15:36:34 - cmdstanpy - INFO - CmdStan done processing.\n",
      "15:36:34 - cmdstanpy - WARNING - Non-fatal error during sampling:\n",
      "Exception: normal_lpdf: Scale parameter is 0, but must be positive! (in '/Users/girlfriend/minipdb/programs/arma-arma11/arma-arma11.stan', line 31, column 2 to column 25)\n",
      "Consider re-running with show_console=True if the above output is unclear!\n"
     ]
    },
    {
     "name": "stdout",
     "output_type": "stream",
     "text": [
      "\n"
     ]
    },
    {
     "name": "stderr",
     "output_type": "stream",
     "text": [
      "15:36:34 - cmdstanpy - INFO - CmdStan start processing\n",
      "chain 1 |\u001b[33m███████████████████████████████████████████████████████████████████████\u001b[0m| 00:00 Sampling completed\u001b[0m"
     ]
    },
    {
     "name": "stdout",
     "output_type": "stream",
     "text": [
      "                                                                                "
     ]
    },
    {
     "name": "stderr",
     "output_type": "stream",
     "text": [
      "\n",
      "15:36:34 - cmdstanpy - INFO - CmdStan done processing.\n"
     ]
    },
    {
     "name": "stdout",
     "output_type": "stream",
     "text": [
      "\n"
     ]
    },
    {
     "name": "stderr",
     "output_type": "stream",
     "text": [
      "15:36:34 - cmdstanpy - INFO - CmdStan start processing\n",
      "chain 1 |\u001b[33m███████████████████████████████████████████████████████████████████████\u001b[0m| 00:00 Sampling completed\u001b[0m"
     ]
    },
    {
     "name": "stdout",
     "output_type": "stream",
     "text": [
      "                                                                                "
     ]
    },
    {
     "name": "stderr",
     "output_type": "stream",
     "text": [
      "\n",
      "15:36:34 - cmdstanpy - INFO - CmdStan done processing.\n",
      "/Users/girlfriend/typical-init/tools.py:7: RuntimeWarning: invalid value encountered in scalar divide\n",
      "  f = np.dot(pf, pt) / (normf * normt)\n",
      "/Users/girlfriend/typical-init/tools.py:8: RuntimeWarning: invalid value encountered in scalar divide\n",
      "  b = np.dot(pb, pt) / (normb * normt)\n"
     ]
    },
    {
     "name": "stdout",
     "output_type": "stream",
     "text": [
      "\n"
     ]
    },
    {
     "name": "stderr",
     "output_type": "stream",
     "text": [
      "15:36:34 - cmdstanpy - INFO - CmdStan start processing\n",
      "chain 1 |\u001b[33m███████████████████████████████████████████████████████████████████████\u001b[0m| 00:00 Sampling completed\u001b[0m"
     ]
    },
    {
     "name": "stdout",
     "output_type": "stream",
     "text": [
      "                                                                                "
     ]
    },
    {
     "name": "stderr",
     "output_type": "stream",
     "text": [
      "\n",
      "15:36:34 - cmdstanpy - INFO - CmdStan done processing.\n"
     ]
    },
    {
     "name": "stdout",
     "output_type": "stream",
     "text": [
      "\n"
     ]
    },
    {
     "name": "stderr",
     "output_type": "stream",
     "text": [
      "15:36:34 - cmdstanpy - INFO - CmdStan start processing\n",
      "chain 1 |\u001b[33m███████████████████████████████████████████████████████████████████████\u001b[0m| 00:00 Sampling completed\u001b[0m"
     ]
    },
    {
     "name": "stdout",
     "output_type": "stream",
     "text": [
      "                                                                                "
     ]
    },
    {
     "name": "stderr",
     "output_type": "stream",
     "text": [
      "\n",
      "15:36:34 - cmdstanpy - INFO - CmdStan done processing.\n",
      "/Users/girlfriend/typical-init/tools.py:7: RuntimeWarning: invalid value encountered in scalar divide\n",
      "  f = np.dot(pf, pt) / (normf * normt)\n",
      "/Users/girlfriend/typical-init/tools.py:8: RuntimeWarning: invalid value encountered in scalar divide\n",
      "  b = np.dot(pb, pt) / (normb * normt)\n"
     ]
    },
    {
     "name": "stdout",
     "output_type": "stream",
     "text": [
      "\n"
     ]
    },
    {
     "name": "stderr",
     "output_type": "stream",
     "text": [
      "15:36:34 - cmdstanpy - INFO - CmdStan start processing\n",
      "chain 1 |\u001b[33m███████████████████████████████████████████████████████████████████████\u001b[0m| 00:00 Sampling completed\u001b[0m"
     ]
    },
    {
     "name": "stdout",
     "output_type": "stream",
     "text": [
      "                                                                                "
     ]
    },
    {
     "name": "stderr",
     "output_type": "stream",
     "text": [
      "\n",
      "15:36:34 - cmdstanpy - INFO - CmdStan done processing.\n"
     ]
    },
    {
     "name": "stdout",
     "output_type": "stream",
     "text": [
      "\n"
     ]
    },
    {
     "name": "stderr",
     "output_type": "stream",
     "text": [
      "15:36:34 - cmdstanpy - INFO - CmdStan start processing\n",
      "chain 1 |\u001b[33m███████████████████████████████████████████████████████████████████████\u001b[0m| 00:00 Sampling completed\u001b[0m"
     ]
    },
    {
     "name": "stdout",
     "output_type": "stream",
     "text": [
      "                                                                                "
     ]
    },
    {
     "name": "stderr",
     "output_type": "stream",
     "text": [
      "\n",
      "15:36:34 - cmdstanpy - INFO - CmdStan done processing.\n",
      "15:36:34 - cmdstanpy - WARNING - Non-fatal error during sampling:\n",
      "Exception: normal_lpdf: Scale parameter is 0, but must be positive! (in '/Users/girlfriend/minipdb/programs/arma-arma11/arma-arma11.stan', line 31, column 2 to column 25)\n",
      "Consider re-running with show_console=True if the above output is unclear!\n",
      "15:36:34 - cmdstanpy - INFO - CmdStan start processing\n"
     ]
    },
    {
     "name": "stdout",
     "output_type": "stream",
     "text": [
      "\n"
     ]
    },
    {
     "name": "stderr",
     "output_type": "stream",
     "text": [
      "chain 1 |\u001b[33m███████████████████████████████████████████████████████████████████████\u001b[0m| 00:00 Sampling completed\u001b[0m"
     ]
    },
    {
     "name": "stdout",
     "output_type": "stream",
     "text": [
      "                                                                                "
     ]
    },
    {
     "name": "stderr",
     "output_type": "stream",
     "text": [
      "\n",
      "15:36:34 - cmdstanpy - INFO - CmdStan done processing.\n",
      "/Users/girlfriend/typical-init/tools.py:7: RuntimeWarning: invalid value encountered in scalar divide\n",
      "  f = np.dot(pf, pt) / (normf * normt)\n",
      "/Users/girlfriend/typical-init/tools.py:8: RuntimeWarning: invalid value encountered in scalar divide\n",
      "  b = np.dot(pb, pt) / (normb * normt)\n",
      "15:36:34 - cmdstanpy - INFO - CmdStan start processing\n"
     ]
    },
    {
     "name": "stdout",
     "output_type": "stream",
     "text": [
      "\n"
     ]
    },
    {
     "name": "stderr",
     "output_type": "stream",
     "text": [
      "chain 1 |\u001b[33m███████████████████████████████████████████████████████████████████████\u001b[0m| 00:00 Sampling completed\u001b[0m"
     ]
    },
    {
     "name": "stdout",
     "output_type": "stream",
     "text": [
      "                                                                                "
     ]
    },
    {
     "name": "stderr",
     "output_type": "stream",
     "text": [
      "\n",
      "15:36:34 - cmdstanpy - INFO - CmdStan done processing.\n",
      "15:36:34 - cmdstanpy - WARNING - Non-fatal error during sampling:\n",
      "Exception: normal_lpdf: Scale parameter is 0, but must be positive! (in '/Users/girlfriend/minipdb/programs/arma-arma11/arma-arma11.stan', line 31, column 2 to column 25)\n",
      "Consider re-running with show_console=True if the above output is unclear!\n",
      "15:36:34 - cmdstanpy - INFO - CmdStan start processing\n"
     ]
    },
    {
     "name": "stdout",
     "output_type": "stream",
     "text": [
      "\n"
     ]
    },
    {
     "name": "stderr",
     "output_type": "stream",
     "text": [
      "chain 1 |\u001b[33m███████████████████████████████████████████████████████████████████████\u001b[0m| 00:00 Sampling completed\u001b[0m"
     ]
    },
    {
     "name": "stdout",
     "output_type": "stream",
     "text": [
      "                                                                                "
     ]
    },
    {
     "name": "stderr",
     "output_type": "stream",
     "text": [
      "\n",
      "15:36:34 - cmdstanpy - INFO - CmdStan done processing.\n"
     ]
    },
    {
     "name": "stdout",
     "output_type": "stream",
     "text": [
      "\n"
     ]
    },
    {
     "name": "stderr",
     "output_type": "stream",
     "text": [
      "15:36:34 - cmdstanpy - INFO - CmdStan start processing\n",
      "chain 1 |\u001b[33m███████████████████████████████████████████████████████████████████████\u001b[0m| 00:00 Sampling completed\u001b[0m"
     ]
    },
    {
     "name": "stdout",
     "output_type": "stream",
     "text": [
      "                                                                                "
     ]
    },
    {
     "name": "stderr",
     "output_type": "stream",
     "text": [
      "\n",
      "15:36:34 - cmdstanpy - INFO - CmdStan done processing.\n",
      "15:36:35 - cmdstanpy - INFO - CmdStan start processing\n"
     ]
    },
    {
     "name": "stdout",
     "output_type": "stream",
     "text": [
      "\n"
     ]
    },
    {
     "name": "stderr",
     "output_type": "stream",
     "text": [
      "chain 1 |\u001b[33m███████████████████████████████████████████████████████████████████████\u001b[0m| 00:00 Sampling completed\u001b[0m"
     ]
    },
    {
     "name": "stdout",
     "output_type": "stream",
     "text": [
      "                                                                                "
     ]
    },
    {
     "name": "stderr",
     "output_type": "stream",
     "text": [
      "\n",
      "15:36:35 - cmdstanpy - INFO - CmdStan done processing.\n",
      "15:36:35 - cmdstanpy - INFO - CmdStan start processing\n"
     ]
    },
    {
     "name": "stdout",
     "output_type": "stream",
     "text": [
      "\n"
     ]
    },
    {
     "name": "stderr",
     "output_type": "stream",
     "text": [
      "chain 1 |\u001b[33m███████████████████████████████████████████████████████████████████████\u001b[0m| 00:00 Sampling completed\u001b[0m"
     ]
    },
    {
     "name": "stdout",
     "output_type": "stream",
     "text": [
      "                                                                                "
     ]
    },
    {
     "name": "stderr",
     "output_type": "stream",
     "text": [
      "\n",
      "15:36:35 - cmdstanpy - INFO - CmdStan done processing.\n"
     ]
    },
    {
     "name": "stdout",
     "output_type": "stream",
     "text": [
      "\n"
     ]
    },
    {
     "name": "stderr",
     "output_type": "stream",
     "text": [
      "15:36:35 - cmdstanpy - INFO - CmdStan start processing\n",
      "chain 1 |\u001b[33m███████████████████████████████████████████████████████████████████████\u001b[0m| 00:00 Sampling completed\u001b[0m"
     ]
    },
    {
     "name": "stdout",
     "output_type": "stream",
     "text": [
      "                                                                                "
     ]
    },
    {
     "name": "stderr",
     "output_type": "stream",
     "text": [
      "\n",
      "15:36:35 - cmdstanpy - INFO - CmdStan done processing.\n"
     ]
    },
    {
     "name": "stdout",
     "output_type": "stream",
     "text": [
      "\n"
     ]
    },
    {
     "name": "stderr",
     "output_type": "stream",
     "text": [
      "15:36:35 - cmdstanpy - INFO - CmdStan start processing\n",
      "chain 1 |\u001b[33m███████████████████████████████████████████████████████████████████████\u001b[0m| 00:00 Sampling completed\u001b[0m"
     ]
    },
    {
     "name": "stdout",
     "output_type": "stream",
     "text": [
      "                                                                                "
     ]
    },
    {
     "name": "stderr",
     "output_type": "stream",
     "text": [
      "\n",
      "15:36:35 - cmdstanpy - INFO - CmdStan done processing.\n",
      "/Users/girlfriend/typical-init/tools.py:7: RuntimeWarning: invalid value encountered in scalar divide\n",
      "  f = np.dot(pf, pt) / (normf * normt)\n",
      "/Users/girlfriend/typical-init/tools.py:8: RuntimeWarning: invalid value encountered in scalar divide\n",
      "  b = np.dot(pb, pt) / (normb * normt)\n"
     ]
    },
    {
     "name": "stdout",
     "output_type": "stream",
     "text": [
      "\n"
     ]
    },
    {
     "name": "stderr",
     "output_type": "stream",
     "text": [
      "15:36:35 - cmdstanpy - INFO - CmdStan start processing\n",
      "chain 1 |\u001b[33m███████████████████████████████████████████████████████████████████████\u001b[0m| 00:00 Sampling completed\u001b[0m"
     ]
    },
    {
     "name": "stdout",
     "output_type": "stream",
     "text": [
      "                                                                                "
     ]
    },
    {
     "name": "stderr",
     "output_type": "stream",
     "text": [
      "\n",
      "15:36:35 - cmdstanpy - INFO - CmdStan done processing.\n",
      "/Users/girlfriend/typical-init/tools.py:7: RuntimeWarning: invalid value encountered in scalar divide\n",
      "  f = np.dot(pf, pt) / (normf * normt)\n",
      "/Users/girlfriend/typical-init/tools.py:8: RuntimeWarning: invalid value encountered in scalar divide\n",
      "  b = np.dot(pb, pt) / (normb * normt)\n"
     ]
    },
    {
     "name": "stdout",
     "output_type": "stream",
     "text": [
      "\n"
     ]
    },
    {
     "name": "stderr",
     "output_type": "stream",
     "text": [
      "15:36:35 - cmdstanpy - INFO - CmdStan start processing\n",
      "chain 1 |\u001b[33m███████████████████████████████████████████████████████████████████████\u001b[0m| 00:00 Sampling completed\u001b[0m"
     ]
    },
    {
     "name": "stdout",
     "output_type": "stream",
     "text": [
      "                                                                                "
     ]
    },
    {
     "name": "stderr",
     "output_type": "stream",
     "text": [
      "\n",
      "15:36:35 - cmdstanpy - INFO - CmdStan done processing.\n",
      "/Users/girlfriend/typical-init/tools.py:7: RuntimeWarning: invalid value encountered in scalar divide\n",
      "  f = np.dot(pf, pt) / (normf * normt)\n",
      "/Users/girlfriend/typical-init/tools.py:8: RuntimeWarning: invalid value encountered in scalar divide\n",
      "  b = np.dot(pb, pt) / (normb * normt)\n"
     ]
    },
    {
     "name": "stdout",
     "output_type": "stream",
     "text": [
      "\n"
     ]
    },
    {
     "name": "stderr",
     "output_type": "stream",
     "text": [
      "15:36:35 - cmdstanpy - INFO - CmdStan start processing\n",
      "chain 1 |\u001b[33m███████████████████████████████████████████████████████████████████████\u001b[0m| 00:00 Sampling completed\u001b[0m"
     ]
    },
    {
     "name": "stdout",
     "output_type": "stream",
     "text": [
      "                                                                                "
     ]
    },
    {
     "name": "stderr",
     "output_type": "stream",
     "text": [
      "\n",
      "15:36:35 - cmdstanpy - INFO - CmdStan done processing.\n"
     ]
    },
    {
     "name": "stdout",
     "output_type": "stream",
     "text": [
      "\n"
     ]
    },
    {
     "name": "stderr",
     "output_type": "stream",
     "text": [
      "15:36:35 - cmdstanpy - INFO - CmdStan start processing\n",
      "chain 1 |\u001b[33m███████████████████████████████████████████████████████████████████████\u001b[0m| 00:00 Sampling completed\u001b[0m"
     ]
    },
    {
     "name": "stdout",
     "output_type": "stream",
     "text": [
      "                                                                                "
     ]
    },
    {
     "name": "stderr",
     "output_type": "stream",
     "text": [
      "\n",
      "15:36:35 - cmdstanpy - INFO - CmdStan done processing.\n"
     ]
    },
    {
     "name": "stdout",
     "output_type": "stream",
     "text": [
      "\n"
     ]
    },
    {
     "name": "stderr",
     "output_type": "stream",
     "text": [
      "15:36:35 - cmdstanpy - INFO - CmdStan start processing\n",
      "chain 1 |\u001b[33m███████████████████████████████████████████████████████████████████████\u001b[0m| 00:00 Sampling completed\u001b[0m"
     ]
    },
    {
     "name": "stdout",
     "output_type": "stream",
     "text": [
      "                                                                                "
     ]
    },
    {
     "name": "stderr",
     "output_type": "stream",
     "text": [
      "\n",
      "15:36:35 - cmdstanpy - INFO - CmdStan done processing.\n",
      "15:36:35 - cmdstanpy - WARNING - Non-fatal error during sampling:\n",
      "Exception: normal_lpdf: Scale parameter is 0, but must be positive! (in '/Users/girlfriend/minipdb/programs/arma-arma11/arma-arma11.stan', line 31, column 2 to column 25)\n",
      "Consider re-running with show_console=True if the above output is unclear!\n"
     ]
    },
    {
     "name": "stdout",
     "output_type": "stream",
     "text": [
      "\n"
     ]
    },
    {
     "name": "stderr",
     "output_type": "stream",
     "text": [
      "/Users/girlfriend/typical-init/tools.py:7: RuntimeWarning: invalid value encountered in scalar divide\n",
      "  f = np.dot(pf, pt) / (normf * normt)\n",
      "/Users/girlfriend/typical-init/tools.py:8: RuntimeWarning: invalid value encountered in scalar divide\n",
      "  b = np.dot(pb, pt) / (normb * normt)\n",
      "15:36:35 - cmdstanpy - INFO - CmdStan start processing\n",
      "chain 1 |\u001b[33m███████████████████████████████████████████████████████████████████████\u001b[0m| 00:00 Sampling completed\u001b[0m"
     ]
    },
    {
     "name": "stdout",
     "output_type": "stream",
     "text": [
      "                                                                                "
     ]
    },
    {
     "name": "stderr",
     "output_type": "stream",
     "text": [
      "\n",
      "15:36:35 - cmdstanpy - INFO - CmdStan done processing.\n",
      "/Users/girlfriend/typical-init/tools.py:7: RuntimeWarning: invalid value encountered in scalar divide\n",
      "  f = np.dot(pf, pt) / (normf * normt)\n",
      "/Users/girlfriend/typical-init/tools.py:8: RuntimeWarning: invalid value encountered in scalar divide\n",
      "  b = np.dot(pb, pt) / (normb * normt)\n"
     ]
    },
    {
     "name": "stdout",
     "output_type": "stream",
     "text": [
      "\n"
     ]
    },
    {
     "name": "stderr",
     "output_type": "stream",
     "text": [
      "15:36:35 - cmdstanpy - INFO - CmdStan start processing\n",
      "chain 1 |\u001b[33m███████████████████████████████████████████████████████████████████████\u001b[0m| 00:00 Sampling completed\u001b[0m"
     ]
    },
    {
     "name": "stdout",
     "output_type": "stream",
     "text": [
      "                                                                                "
     ]
    },
    {
     "name": "stderr",
     "output_type": "stream",
     "text": [
      "\n",
      "15:36:35 - cmdstanpy - INFO - CmdStan done processing.\n",
      "15:36:35 - cmdstanpy - INFO - CmdStan start processing\n"
     ]
    },
    {
     "name": "stdout",
     "output_type": "stream",
     "text": [
      "\n"
     ]
    },
    {
     "name": "stderr",
     "output_type": "stream",
     "text": [
      "chain 1 |\u001b[33m███████████████████████████████████████████████████████████████████████\u001b[0m| 00:00 Sampling completed\u001b[0m"
     ]
    },
    {
     "name": "stdout",
     "output_type": "stream",
     "text": [
      "                                                                                "
     ]
    },
    {
     "name": "stderr",
     "output_type": "stream",
     "text": [
      "\n",
      "15:36:35 - cmdstanpy - INFO - CmdStan done processing.\n",
      "15:36:35 - cmdstanpy - WARNING - Non-fatal error during sampling:\n",
      "Exception: normal_lpdf: Scale parameter is 0, but must be positive! (in '/Users/girlfriend/minipdb/programs/arma-arma11/arma-arma11.stan', line 31, column 2 to column 25)\n",
      "Consider re-running with show_console=True if the above output is unclear!\n",
      "/Users/girlfriend/typical-init/tools.py:7: RuntimeWarning: invalid value encountered in scalar divide\n",
      "  f = np.dot(pf, pt) / (normf * normt)\n",
      "/Users/girlfriend/typical-init/tools.py:8: RuntimeWarning: invalid value encountered in scalar divide\n",
      "  b = np.dot(pb, pt) / (normb * normt)\n"
     ]
    },
    {
     "name": "stdout",
     "output_type": "stream",
     "text": [
      "\n"
     ]
    },
    {
     "name": "stderr",
     "output_type": "stream",
     "text": [
      "15:36:35 - cmdstanpy - INFO - CmdStan start processing\n",
      "chain 1 |\u001b[33m███████████████████████████████████████████████████████████████████████\u001b[0m| 00:00 Sampling completed\u001b[0m"
     ]
    },
    {
     "name": "stdout",
     "output_type": "stream",
     "text": [
      "                                                                                "
     ]
    },
    {
     "name": "stderr",
     "output_type": "stream",
     "text": [
      "\n",
      "15:36:36 - cmdstanpy - INFO - CmdStan done processing.\n"
     ]
    },
    {
     "name": "stdout",
     "output_type": "stream",
     "text": [
      "\n"
     ]
    },
    {
     "name": "stderr",
     "output_type": "stream",
     "text": [
      "15:36:36 - cmdstanpy - INFO - CmdStan start processing\n",
      "chain 1 |\u001b[33m███████████████████████████████████████████████████████████████████████\u001b[0m| 00:00 Sampling completed\u001b[0m"
     ]
    },
    {
     "name": "stdout",
     "output_type": "stream",
     "text": [
      "                                                                                "
     ]
    },
    {
     "name": "stderr",
     "output_type": "stream",
     "text": [
      "\n",
      "15:36:36 - cmdstanpy - INFO - CmdStan done processing.\n",
      "15:36:36 - cmdstanpy - WARNING - Non-fatal error during sampling:\n",
      "Exception: normal_lpdf: Scale parameter is 0, but must be positive! (in '/Users/girlfriend/minipdb/programs/arma-arma11/arma-arma11.stan', line 31, column 2 to column 25)\n",
      "Consider re-running with show_console=True if the above output is unclear!\n"
     ]
    },
    {
     "name": "stdout",
     "output_type": "stream",
     "text": [
      "\n"
     ]
    },
    {
     "name": "stderr",
     "output_type": "stream",
     "text": [
      "15:36:36 - cmdstanpy - INFO - CmdStan start processing\n",
      "chain 1 |\u001b[33m███████████████████████████████████████████████████████████████████████\u001b[0m| 00:00 Sampling completed\u001b[0m"
     ]
    },
    {
     "name": "stdout",
     "output_type": "stream",
     "text": [
      "                                                                                "
     ]
    },
    {
     "name": "stderr",
     "output_type": "stream",
     "text": [
      "\n",
      "15:36:36 - cmdstanpy - INFO - CmdStan done processing.\n"
     ]
    },
    {
     "name": "stdout",
     "output_type": "stream",
     "text": [
      "\n"
     ]
    },
    {
     "name": "stderr",
     "output_type": "stream",
     "text": [
      "/Users/girlfriend/typical-init/tools.py:7: RuntimeWarning: invalid value encountered in scalar divide\n",
      "  f = np.dot(pf, pt) / (normf * normt)\n",
      "/Users/girlfriend/typical-init/tools.py:8: RuntimeWarning: invalid value encountered in scalar divide\n",
      "  b = np.dot(pb, pt) / (normb * normt)\n",
      "15:36:36 - cmdstanpy - INFO - CmdStan start processing\n",
      "chain 1 |\u001b[33m███████████████████████████████████████████████████████████████████████\u001b[0m| 00:00 Sampling completed\u001b[0m"
     ]
    },
    {
     "name": "stdout",
     "output_type": "stream",
     "text": [
      "                                                                                "
     ]
    },
    {
     "name": "stderr",
     "output_type": "stream",
     "text": [
      "\n",
      "15:36:36 - cmdstanpy - INFO - CmdStan done processing.\n"
     ]
    },
    {
     "name": "stdout",
     "output_type": "stream",
     "text": [
      "\n"
     ]
    },
    {
     "name": "stderr",
     "output_type": "stream",
     "text": [
      "15:36:36 - cmdstanpy - INFO - CmdStan start processing\n",
      "chain 1 |\u001b[33m███████████████████████████████████████████████████████████████████████\u001b[0m| 00:00 Sampling completed\u001b[0m"
     ]
    },
    {
     "name": "stdout",
     "output_type": "stream",
     "text": [
      "                                                                                "
     ]
    },
    {
     "name": "stderr",
     "output_type": "stream",
     "text": [
      "\n",
      "15:36:36 - cmdstanpy - INFO - CmdStan done processing.\n",
      "15:36:36 - cmdstanpy - INFO - CmdStan start processing\n"
     ]
    },
    {
     "name": "stdout",
     "output_type": "stream",
     "text": [
      "\n"
     ]
    },
    {
     "name": "stderr",
     "output_type": "stream",
     "text": [
      "chain 1 |\u001b[33m███████████████████████████████████████████████████████████████████████\u001b[0m| 00:00 Sampling completed\u001b[0m"
     ]
    },
    {
     "name": "stdout",
     "output_type": "stream",
     "text": [
      "                                                                                "
     ]
    },
    {
     "name": "stderr",
     "output_type": "stream",
     "text": [
      "\n",
      "15:36:36 - cmdstanpy - INFO - CmdStan done processing.\n",
      "/Users/girlfriend/typical-init/tools.py:7: RuntimeWarning: invalid value encountered in scalar divide\n",
      "  f = np.dot(pf, pt) / (normf * normt)\n",
      "/Users/girlfriend/typical-init/tools.py:8: RuntimeWarning: invalid value encountered in scalar divide\n",
      "  b = np.dot(pb, pt) / (normb * normt)\n",
      "15:36:36 - cmdstanpy - INFO - CmdStan start processing\n"
     ]
    },
    {
     "name": "stdout",
     "output_type": "stream",
     "text": [
      "\n"
     ]
    },
    {
     "name": "stderr",
     "output_type": "stream",
     "text": [
      "chain 1 |\u001b[33m███████████████████████████████████████████████████████████████████████\u001b[0m| 00:00 Sampling completed\u001b[0m"
     ]
    },
    {
     "name": "stdout",
     "output_type": "stream",
     "text": [
      "                                                                                "
     ]
    },
    {
     "name": "stderr",
     "output_type": "stream",
     "text": [
      "\n",
      "15:36:36 - cmdstanpy - INFO - CmdStan done processing.\n",
      "/Users/girlfriend/typical-init/tools.py:7: RuntimeWarning: invalid value encountered in scalar divide\n",
      "  f = np.dot(pf, pt) / (normf * normt)\n",
      "/Users/girlfriend/typical-init/tools.py:8: RuntimeWarning: invalid value encountered in scalar divide\n",
      "  b = np.dot(pb, pt) / (normb * normt)\n",
      "15:36:36 - cmdstanpy - INFO - CmdStan start processing\n"
     ]
    },
    {
     "name": "stdout",
     "output_type": "stream",
     "text": [
      "\n"
     ]
    },
    {
     "name": "stderr",
     "output_type": "stream",
     "text": [
      "chain 1 |\u001b[33m███████████████████████████████████████████████████████████████████████\u001b[0m| 00:00 Sampling completed\u001b[0m"
     ]
    },
    {
     "name": "stdout",
     "output_type": "stream",
     "text": [
      "                                                                                "
     ]
    },
    {
     "name": "stderr",
     "output_type": "stream",
     "text": [
      "\n",
      "15:36:36 - cmdstanpy - INFO - CmdStan done processing.\n",
      "15:36:36 - cmdstanpy - WARNING - Non-fatal error during sampling:\n",
      "Exception: normal_lpdf: Scale parameter is 0, but must be positive! (in '/Users/girlfriend/minipdb/programs/arma-arma11/arma-arma11.stan', line 31, column 2 to column 25)\n",
      "Consider re-running with show_console=True if the above output is unclear!\n"
     ]
    },
    {
     "name": "stdout",
     "output_type": "stream",
     "text": [
      "\n"
     ]
    },
    {
     "name": "stderr",
     "output_type": "stream",
     "text": [
      "15:36:36 - cmdstanpy - INFO - CmdStan start processing\n",
      "chain 1 |\u001b[33m███████████████████████████████████████████████████████████████████████\u001b[0m| 00:00 Sampling completed\u001b[0m"
     ]
    },
    {
     "name": "stdout",
     "output_type": "stream",
     "text": [
      "                                                                                "
     ]
    },
    {
     "name": "stderr",
     "output_type": "stream",
     "text": [
      "\n",
      "15:36:36 - cmdstanpy - INFO - CmdStan done processing.\n",
      "/Users/girlfriend/typical-init/tools.py:7: RuntimeWarning: invalid value encountered in scalar divide\n",
      "  f = np.dot(pf, pt) / (normf * normt)\n",
      "/Users/girlfriend/typical-init/tools.py:8: RuntimeWarning: invalid value encountered in scalar divide\n",
      "  b = np.dot(pb, pt) / (normb * normt)\n"
     ]
    },
    {
     "name": "stdout",
     "output_type": "stream",
     "text": [
      "\n"
     ]
    },
    {
     "name": "stderr",
     "output_type": "stream",
     "text": [
      "15:36:36 - cmdstanpy - INFO - CmdStan start processing\n",
      "chain 1 |\u001b[33m███████████████████████████████████████████████████████████████████████\u001b[0m| 00:00 Sampling completed\u001b[0m"
     ]
    },
    {
     "name": "stdout",
     "output_type": "stream",
     "text": [
      "                                                                                "
     ]
    },
    {
     "name": "stderr",
     "output_type": "stream",
     "text": [
      "\n",
      "15:36:36 - cmdstanpy - INFO - CmdStan done processing.\n"
     ]
    },
    {
     "name": "stdout",
     "output_type": "stream",
     "text": [
      "\n"
     ]
    },
    {
     "name": "stderr",
     "output_type": "stream",
     "text": [
      "15:36:36 - cmdstanpy - INFO - CmdStan start processing\n",
      "chain 1 |\u001b[33m███████████████████████████████████████████████████████████████████████\u001b[0m| 00:00 Sampling completed\u001b[0m"
     ]
    },
    {
     "name": "stdout",
     "output_type": "stream",
     "text": [
      "                                                                                "
     ]
    },
    {
     "name": "stderr",
     "output_type": "stream",
     "text": [
      "\n",
      "15:36:36 - cmdstanpy - INFO - CmdStan done processing.\n",
      "/Users/girlfriend/typical-init/tools.py:7: RuntimeWarning: invalid value encountered in scalar divide\n",
      "  f = np.dot(pf, pt) / (normf * normt)\n",
      "/Users/girlfriend/typical-init/tools.py:8: RuntimeWarning: invalid value encountered in scalar divide\n",
      "  b = np.dot(pb, pt) / (normb * normt)\n"
     ]
    },
    {
     "name": "stdout",
     "output_type": "stream",
     "text": [
      "\n"
     ]
    },
    {
     "name": "stderr",
     "output_type": "stream",
     "text": [
      "15:36:36 - cmdstanpy - INFO - CmdStan start processing\n",
      "chain 1 |\u001b[33m███████████████████████████████████████████████████████████████████████\u001b[0m| 00:00 Sampling completed\u001b[0m\n"
     ]
    },
    {
     "name": "stdout",
     "output_type": "stream",
     "text": [
      "                                                                                "
     ]
    },
    {
     "name": "stderr",
     "output_type": "stream",
     "text": [
      "15:36:36 - cmdstanpy - INFO - CmdStan done processing.\n"
     ]
    },
    {
     "name": "stdout",
     "output_type": "stream",
     "text": [
      "\n"
     ]
    },
    {
     "name": "stderr",
     "output_type": "stream",
     "text": [
      "15:36:36 - cmdstanpy - INFO - CmdStan start processing\n",
      "chain 1 |\u001b[33m███████████████████████████████████████████████████████████████████████\u001b[0m| 00:00 Sampling completed\u001b[0m"
     ]
    },
    {
     "name": "stdout",
     "output_type": "stream",
     "text": [
      "                                                                                "
     ]
    },
    {
     "name": "stderr",
     "output_type": "stream",
     "text": [
      "\n",
      "15:36:36 - cmdstanpy - INFO - CmdStan done processing.\n"
     ]
    },
    {
     "name": "stdout",
     "output_type": "stream",
     "text": [
      "\n"
     ]
    },
    {
     "name": "stderr",
     "output_type": "stream",
     "text": [
      "15:36:37 - cmdstanpy - INFO - CmdStan start processing\n",
      "chain 1 |\u001b[33m███████████████████████████████████████████████████████████████████████\u001b[0m| 00:00 Sampling completed\u001b[0m"
     ]
    },
    {
     "name": "stdout",
     "output_type": "stream",
     "text": [
      "                                                                                "
     ]
    },
    {
     "name": "stderr",
     "output_type": "stream",
     "text": [
      "\n",
      "15:36:37 - cmdstanpy - INFO - CmdStan done processing.\n",
      "/Users/girlfriend/typical-init/tools.py:7: RuntimeWarning: invalid value encountered in scalar divide\n",
      "  f = np.dot(pf, pt) / (normf * normt)\n",
      "/Users/girlfriend/typical-init/tools.py:8: RuntimeWarning: invalid value encountered in scalar divide\n",
      "  b = np.dot(pb, pt) / (normb * normt)\n"
     ]
    },
    {
     "name": "stdout",
     "output_type": "stream",
     "text": [
      "\n"
     ]
    },
    {
     "name": "stderr",
     "output_type": "stream",
     "text": [
      "15:36:37 - cmdstanpy - INFO - CmdStan start processing\n",
      "chain 1 |\u001b[33m███████████████████████████████████████████████████████████████████████\u001b[0m| 00:00 Sampling completed\u001b[0m"
     ]
    },
    {
     "name": "stdout",
     "output_type": "stream",
     "text": [
      "                                                                                "
     ]
    },
    {
     "name": "stderr",
     "output_type": "stream",
     "text": [
      "\n",
      "15:36:37 - cmdstanpy - INFO - CmdStan done processing.\n",
      "15:36:37 - cmdstanpy - INFO - CmdStan start processing\n"
     ]
    },
    {
     "name": "stdout",
     "output_type": "stream",
     "text": [
      "\n"
     ]
    },
    {
     "name": "stderr",
     "output_type": "stream",
     "text": [
      "chain 1 |\u001b[33m███████████████████████████████████████████████████████████████████████\u001b[0m| 00:00 Sampling completed\u001b[0m"
     ]
    },
    {
     "name": "stdout",
     "output_type": "stream",
     "text": [
      "                                                                                "
     ]
    },
    {
     "name": "stderr",
     "output_type": "stream",
     "text": [
      "\n",
      "15:36:37 - cmdstanpy - INFO - CmdStan done processing.\n",
      "15:36:37 - cmdstanpy - INFO - CmdStan start processing\n"
     ]
    },
    {
     "name": "stdout",
     "output_type": "stream",
     "text": [
      "\n"
     ]
    },
    {
     "name": "stderr",
     "output_type": "stream",
     "text": [
      "chain 1 |\u001b[33m███████████████████████████████████████████████████████████████████████\u001b[0m| 00:00 Sampling completed\u001b[0m"
     ]
    },
    {
     "name": "stdout",
     "output_type": "stream",
     "text": [
      "                                                                                "
     ]
    },
    {
     "name": "stderr",
     "output_type": "stream",
     "text": [
      "\n",
      "15:36:37 - cmdstanpy - INFO - CmdStan done processing.\n",
      "15:36:37 - cmdstanpy - INFO - CmdStan start processing\n"
     ]
    },
    {
     "name": "stdout",
     "output_type": "stream",
     "text": [
      "\n"
     ]
    },
    {
     "name": "stderr",
     "output_type": "stream",
     "text": [
      "chain 1 |\u001b[33m███████████████████████████████████████████████████████████████████████\u001b[0m| 00:00 Sampling completed\u001b[0m"
     ]
    },
    {
     "name": "stdout",
     "output_type": "stream",
     "text": [
      "                                                                                "
     ]
    },
    {
     "name": "stderr",
     "output_type": "stream",
     "text": [
      "\n",
      "15:36:37 - cmdstanpy - INFO - CmdStan done processing.\n"
     ]
    },
    {
     "name": "stdout",
     "output_type": "stream",
     "text": [
      "\n"
     ]
    },
    {
     "name": "stderr",
     "output_type": "stream",
     "text": [
      "15:36:37 - cmdstanpy - INFO - CmdStan start processing\n",
      "chain 1 |\u001b[33m███████████████████████████████████████████████████████████████████████\u001b[0m| 00:00 Sampling completed\u001b[0m\n"
     ]
    },
    {
     "name": "stdout",
     "output_type": "stream",
     "text": [
      "                                                                                "
     ]
    },
    {
     "name": "stderr",
     "output_type": "stream",
     "text": [
      "15:36:37 - cmdstanpy - INFO - CmdStan done processing.\n"
     ]
    },
    {
     "name": "stdout",
     "output_type": "stream",
     "text": [
      "\n"
     ]
    },
    {
     "name": "stderr",
     "output_type": "stream",
     "text": [
      "15:36:37 - cmdstanpy - INFO - CmdStan start processing\n",
      "chain 1 |\u001b[33m███████████████████████████████████████████████████████████████████████\u001b[0m| 00:00 Sampling completed\u001b[0m"
     ]
    },
    {
     "name": "stdout",
     "output_type": "stream",
     "text": [
      "                                                                                "
     ]
    },
    {
     "name": "stderr",
     "output_type": "stream",
     "text": [
      "\n",
      "15:36:37 - cmdstanpy - INFO - CmdStan done processing.\n",
      "15:36:37 - cmdstanpy - WARNING - Non-fatal error during sampling:\n",
      "Exception: normal_lpdf: Scale parameter is 0, but must be positive! (in '/Users/girlfriend/minipdb/programs/arma-arma11/arma-arma11.stan', line 31, column 2 to column 25)\n",
      "Consider re-running with show_console=True if the above output is unclear!\n"
     ]
    },
    {
     "name": "stdout",
     "output_type": "stream",
     "text": [
      "\n"
     ]
    },
    {
     "name": "stderr",
     "output_type": "stream",
     "text": [
      "15:36:37 - cmdstanpy - INFO - CmdStan start processing\n",
      "chain 1 |\u001b[33m███████████████████████████████████████████████████████████████████████\u001b[0m| 00:00 Sampling completed\u001b[0m"
     ]
    },
    {
     "name": "stdout",
     "output_type": "stream",
     "text": [
      "                                                                                "
     ]
    },
    {
     "name": "stderr",
     "output_type": "stream",
     "text": [
      "\n",
      "15:36:37 - cmdstanpy - INFO - CmdStan done processing.\n",
      "15:36:37 - cmdstanpy - WARNING - Non-fatal error during sampling:\n",
      "Exception: normal_lpdf: Scale parameter is 0, but must be positive! (in '/Users/girlfriend/minipdb/programs/arma-arma11/arma-arma11.stan', line 31, column 2 to column 25)\n",
      "Consider re-running with show_console=True if the above output is unclear!\n",
      "/Users/girlfriend/typical-init/tools.py:7: RuntimeWarning: invalid value encountered in scalar divide\n",
      "  f = np.dot(pf, pt) / (normf * normt)\n",
      "/Users/girlfriend/typical-init/tools.py:8: RuntimeWarning: invalid value encountered in scalar divide\n",
      "  b = np.dot(pb, pt) / (normb * normt)\n"
     ]
    },
    {
     "name": "stdout",
     "output_type": "stream",
     "text": [
      "\n"
     ]
    },
    {
     "name": "stderr",
     "output_type": "stream",
     "text": [
      "15:36:37 - cmdstanpy - INFO - CmdStan start processing\n",
      "chain 1 |\u001b[33m███████████████████████████████████████████████████████████████████████\u001b[0m| 00:00 Sampling completed\u001b[0m"
     ]
    },
    {
     "name": "stdout",
     "output_type": "stream",
     "text": [
      "                                                                                "
     ]
    },
    {
     "name": "stderr",
     "output_type": "stream",
     "text": [
      "\n",
      "15:36:37 - cmdstanpy - INFO - CmdStan done processing.\n",
      "15:36:37 - cmdstanpy - INFO - CmdStan start processing\n"
     ]
    },
    {
     "name": "stdout",
     "output_type": "stream",
     "text": [
      "\n"
     ]
    },
    {
     "name": "stderr",
     "output_type": "stream",
     "text": [
      "chain 1 |\u001b[33m███████████████████████████████████████████████████████████████████████\u001b[0m| 00:00 Sampling completed\u001b[0m"
     ]
    },
    {
     "name": "stdout",
     "output_type": "stream",
     "text": [
      "                                                                                "
     ]
    },
    {
     "name": "stderr",
     "output_type": "stream",
     "text": [
      "\n",
      "15:36:37 - cmdstanpy - INFO - CmdStan done processing.\n"
     ]
    },
    {
     "name": "stdout",
     "output_type": "stream",
     "text": [
      "\n"
     ]
    },
    {
     "name": "stderr",
     "output_type": "stream",
     "text": [
      "15:36:37 - cmdstanpy - INFO - CmdStan start processing\n",
      "chain 1 |\u001b[33m███████████████████████████████████████████████████████████████████████\u001b[0m| 00:00 Sampling completed\u001b[0m"
     ]
    },
    {
     "name": "stdout",
     "output_type": "stream",
     "text": [
      "                                                                                "
     ]
    },
    {
     "name": "stderr",
     "output_type": "stream",
     "text": [
      "\n",
      "15:36:37 - cmdstanpy - INFO - CmdStan done processing.\n"
     ]
    },
    {
     "name": "stdout",
     "output_type": "stream",
     "text": [
      "\n"
     ]
    },
    {
     "name": "stderr",
     "output_type": "stream",
     "text": [
      "15:36:37 - cmdstanpy - INFO - CmdStan start processing\n",
      "chain 1 |\u001b[33m███████████████████████████████████████████████████████████████████████\u001b[0m| 00:00 Sampling completed\u001b[0m"
     ]
    },
    {
     "name": "stdout",
     "output_type": "stream",
     "text": [
      "                                                                                "
     ]
    },
    {
     "name": "stderr",
     "output_type": "stream",
     "text": [
      "\n",
      "15:36:37 - cmdstanpy - INFO - CmdStan done processing.\n"
     ]
    },
    {
     "name": "stdout",
     "output_type": "stream",
     "text": [
      "\n"
     ]
    },
    {
     "name": "stderr",
     "output_type": "stream",
     "text": [
      "15:36:38 - cmdstanpy - INFO - CmdStan start processing\n",
      "chain 1 |\u001b[33m███████████████████████████████████████████████████████████████████████\u001b[0m| 00:00 Sampling completed\u001b[0m"
     ]
    },
    {
     "name": "stdout",
     "output_type": "stream",
     "text": [
      "                                                                                "
     ]
    },
    {
     "name": "stderr",
     "output_type": "stream",
     "text": [
      "\n",
      "15:36:38 - cmdstanpy - INFO - CmdStan done processing.\n",
      "15:36:38 - cmdstanpy - WARNING - Non-fatal error during sampling:\n",
      "Exception: normal_lpdf: Scale parameter is 0, but must be positive! (in '/Users/girlfriend/minipdb/programs/arma-arma11/arma-arma11.stan', line 31, column 2 to column 25)\n",
      "Consider re-running with show_console=True if the above output is unclear!\n"
     ]
    },
    {
     "name": "stdout",
     "output_type": "stream",
     "text": [
      "\n"
     ]
    },
    {
     "name": "stderr",
     "output_type": "stream",
     "text": [
      "15:36:38 - cmdstanpy - INFO - CmdStan start processing\n",
      "chain 1 |\u001b[33m███████████████████████████████████████████████████████████████████████\u001b[0m| 00:00 Sampling completed\u001b[0m"
     ]
    },
    {
     "name": "stdout",
     "output_type": "stream",
     "text": [
      "                                                                                "
     ]
    },
    {
     "name": "stderr",
     "output_type": "stream",
     "text": [
      "\n",
      "15:36:38 - cmdstanpy - INFO - CmdStan done processing.\n"
     ]
    },
    {
     "name": "stdout",
     "output_type": "stream",
     "text": [
      "\n"
     ]
    }
   ],
   "source": [
    "M = 100 # number of simulations\n",
    "degrees_before_cut_off = 75\n",
    "cut_off = np.cos(degrees_before_cut_off * np.pi / 180)\n",
    "\n",
    "stan_leapfrogs = np.zeros(M)\n",
    "new_leapfrogs = np.zeros(M)\n",
    "\n",
    "stan_params = np.zeros(shape = (M, dim))\n",
    "new_params = np.zeros(shape = (M, dim))\n",
    "\n",
    "q_uturns = np.zeros(M)\n",
    "p_uturns = np.zeros(M)\n",
    "o_uturns = np.zeros(M)\n",
    "\n",
    "csm = CmdStanModel(stan_file = stan_file)\n",
    "\n",
    "for m in range(M):\n",
    "    rng = np.random.default_rng()\n",
    "    fit_new = initialize(rng, dim, ldg, \n",
    "                         steps = steps, \n",
    "                         max_leapfrogs = max_leapfrogs,\n",
    "                         cut_off = cut_off)\n",
    "    new_leapfrogs[m] = np.sum(fit_new[\"number_leapfrogs\"])\n",
    "    new_params[m, :] = fit_new[\"position\"]\n",
    "    q_uturns[m] = fit_new[\"position_uturn\"]\n",
    "    p_uturns[m] = fit_new[\"momentum_uturn\"]  \n",
    "    o_uturns[m] = fit_new[\"either_uturn\"]\n",
    "    \n",
    "    fit_stan = csm.sample(data = str(data_file),\n",
    "                     save_warmup = True,\n",
    "                     iter_sampling = 0,\n",
    "                     iter_warmup = 100,\n",
    "                     chains = 1)\n",
    "    df_draws = fit_stan.draws_pd(inc_warmup = True)\n",
    "    stan_leapfrogs[m] = np.sum(df_draws[\"n_leapfrog__\"][:steps])\n",
    "    l = len(df_draws.columns)\n",
    "    q = df_draws.iloc[steps, (l - dim):l].values.copy()\n",
    "    stan_params[m, :] = bsm.param_unconstrain(q)"
   ]
  },
  {
   "cell_type": "code",
   "execution_count": 15,
   "id": "baefa191-7f7f-4a6c-8601-4026b41fa77c",
   "metadata": {},
   "outputs": [
    {
     "data": {
      "text/plain": [
       "<matplotlib.legend.Legend at 0x1202dfc80>"
      ]
     },
     "execution_count": 15,
     "metadata": {},
     "output_type": "execute_result"
    },
    {
     "data": {
      "image/png": "[encoded data removed]",
      "text/plain": [
       "<Figure size 640x480 with 1 Axes>"
      ]
     },
     "metadata": {},
     "output_type": "display_data"
    }
   ],
   "source": [
    "plt.hist(new_leapfrogs, histtype = \"step\", label = \"new\")\n",
    "plt.hist(stan_leapfrogs, histtype = \"step\", label = \"stan\")\n",
    "plt.legend()"
   ]
  },
  {
   "cell_type": "code",
   "execution_count": 22,
   "id": "ca34fb88-fb13-499c-966c-f3bddce43e9e",
   "metadata": {},
   "outputs": [
    {
     "name": "stdout",
     "output_type": "stream",
     "text": [
      "ratio of means: new_leapfrogs / stan_leapfrogs = 0.3466292321493836\n",
      "ratio of medians: new_leapfrogs / stan_leapfrogs = 0.2687224669603524\n",
      "ratio of vars: new_leapfrogs / stan_leapfrogs = 0.3947647724036282\n",
      "ratio of mins: new_leapfrogs / stan_leapfrogs = 1.0\n",
      "ratio of maxs: new_leapfrogs / stan_leapfrogs = 1.7650042265426882\n",
      "confidence interval of difference of mean leapfrogs, new - stan\n"
     ]
    },
    {
     "data": {
      "text/plain": [
       "array([-478.7769372, -307.8030628])"
      ]
     },
     "execution_count": 22,
     "metadata": {},
     "output_type": "execute_result"
    }
   ],
   "source": [
    "mn = np.mean(new_leapfrogs)\n",
    "ms = np.mean(stan_leapfrogs)\n",
    "print(f\"ratio of means: new_leapfrogs / stan_leapfrogs = {mn / ms}\")\n",
    "\n",
    "mdn = np.median(new_leapfrogs)\n",
    "mds = np.median(stan_leapfrogs)\n",
    "print(f\"ratio of medians: new_leapfrogs / stan_leapfrogs = {mdn / mds}\")\n",
    "\n",
    "vn = np.var(new_leapfrogs)\n",
    "vs = np.var(stan_leapfrogs)\n",
    "print(f\"ratio of vars: new_leapfrogs / stan_leapfrogs = {vn / vs}\")\n",
    "\n",
    "mnn = np.min(new_leapfrogs) \n",
    "mns = np.min(stan_leapfrogs)\n",
    "print(f\"ratio of mins: new_leapfrogs / stan_leapfrogs = {mnn / mns}\")\n",
    "\n",
    "mxn = np.max(new_leapfrogs) \n",
    "mxs = np.max(stan_leapfrogs)\n",
    "print(f\"ratio of maxs: new_leapfrogs / stan_leapfrogs = {mxn / mxs}\")\n",
    "\n",
    "z = np.array([-1.96, 1.96])\n",
    "print(\"confidence interval of difference of mean leapfrogs, new - stan\")\n",
    "(mn - ms) + z * np.sqrt((vn + vs) / M)"
   ]
  },
  {
   "cell_type": "code",
   "execution_count": 23,
   "id": "e06a5337-fa32-4e49-ba2f-b76fb7a5bb1b",
   "metadata": {},
   "outputs": [
    {
     "name": "stdout",
     "output_type": "stream",
     "text": [
      "exclusive momentum based uturns: 5201.0\n",
      "exclusive position based uturns: 184.0\n",
      "momentum and position based uturns: 137.0\n",
      "momentum or position based uturns: 5248.0\n"
     ]
    }
   ],
   "source": [
    "print(f\"exclusive momentum based uturns: {np.sum(p_uturns)}\")\n",
    "print(f\"exclusive position based uturns: {np.sum(q_uturns)}\")\n",
    "print(f\"momentum and position based uturns: {np.sum(p_uturns) + np.sum(q_uturns) - np.sum(o_uturns)}\")\n",
    "print(f\"momentum or position based uturns: {np.sum(o_uturns)}\")"
   ]
  },
  {
   "cell_type": "code",
   "execution_count": 24,
   "id": "63eb63e1-44a0-4170-9a9c-55fa73030ed1",
   "metadata": {},
   "outputs": [
    {
     "data": {
      "text/plain": [
       "<matplotlib.legend.Legend at 0x1220be8a0>"
      ]
     },
     "execution_count": 24,
     "metadata": {},
     "output_type": "execute_result"
    },
    {
     "data": {
      "image/png": "[encoded data removed]",
      "text/plain": [
       "<Figure size 600x400 with 8 Axes>"
      ]
     },
     "metadata": {},
     "output_type": "display_data"
    }
   ],
   "source": [
    "n_cols = 4\n",
    "n_rows = np.divmod(dim, n_cols)[0] + 1\n",
    "fig, axs = plt.subplots(n_rows, n_cols, figsize = (6, 4))\n",
    "md = np.size(np.shape(axs))\n",
    "param_names = bsm.param_names()\n",
    "\n",
    "for d in range(dim):\n",
    "    ir, ic = np.divmod(d, n_cols)\n",
    "    ax = axs[ic] if md == 1 else axs[ir, ic]\n",
    "    if d == 0:\n",
    "        ax.hist(new_params[:, d], histtype = \"step\", label = \"new\", )\n",
    "        ax.hist(stan_params[:, d], histtype = \"step\", label = \"stan\")\n",
    "    else:\n",
    "        ax.hist(new_params[:, d], histtype = \"step\")\n",
    "        ax.hist(stan_params[:, d], histtype = \"step\")\n",
    "    ax.title.set_text(param_names[d])\n",
    "fig.tight_layout()\n",
    "fig.legend()"
   ]
  },
  {
   "cell_type": "code",
   "execution_count": null,
   "id": "cfa1ede0-df6b-427a-8389-eebc1225aaf9",
   "metadata": {},
   "outputs": [],
   "source": []
  }
 ],
 "metadata": {
  "kernelspec": {
   "display_name": "Python 3 (ipykernel)",
   "language": "python",
   "name": "python3"
  },
  "language_info": {
   "codemirror_mode": {
    "name": "ipython",
    "version": 3
   },
   "file_extension": ".py",
   "mimetype": "text/x-python",
   "name": "python",
   "nbconvert_exporter": "python",
   "pygments_lexer": "ipython3",
   "version": "3.12.1"
  }
 },
 "nbformat": 4,
 "nbformat_minor": 5
}
