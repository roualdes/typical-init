{
 "cells": [
  {
   "cell_type": "markdown",
   "id": "b31e2d8b-722a-4540-9bf5-e3ea2514883b",
   "metadata": {},
   "source": [
    "# Typical Set Initialization"
   ]
  },
  {
   "cell_type": "markdown",
   "id": "ba8066ba-a5a2-4f79-b842-f4e9a61e3bd2",
   "metadata": {},
   "source": [
    "Stan's MCMC algorithm warms up with an initial fast adaptation interval with default length of 75 iterations.  In these first 75 iterations, \"the chain is allowed to converge towards the typical set\", see [Stan documentation, Section Automatic Parameter Tuning](https://mc-stan.org/docs/reference-manual/hmc-algorithm-parameters.html#automatic-parameter-tuning).  This notebook proposes a new initialization scheme which uses on average fewer gradient evaluations within 75 warmup iterations to move nearly the same distance toward the typical set."
   ]
  },
  {
   "cell_type": "markdown",
   "id": "03ad269d-a350-4464-a81a-af5d328ff1eb",
   "metadata": {},
   "source": [
    "During the 75 warm up iterations of the initial fast interval, Stan's dynamic HMC leapfrogs through phase space, numerically integrating a Hamiltonian system of equations and then selects a new point ensuring detailed balance holds.  The leapfrog steps ensure progress toward the typical set, while preserving detailed balance guarantees that the subsequent Markov chain will generate draws from the correct target distribution and thus appropriate means of the draws will approximate expectation values of interest.  Since these warmup iterations are commonly thrown away, this author believes there is an argument against spending the computational resources to preserve detailed balance."
   ]
  },
  {
   "cell_type": "markdown",
   "id": "1f078390-9ce8-45d9-97ff-b80aa8b3bdb1",
   "metadata": {},
   "source": [
    "In the most common use case of Stan, the initial 75 warmup iterations are to find the typical set, not to provide information about expectation values.  This notebook explores the efficiency gain, if any, to be had in giving up detailed balance during these initial 75 warmup iterations.  The goal is to trade the asymptotic guarantees of detailed balance for more efficient movement toward the typical set."
   ]
  },
  {
   "cell_type": "markdown",
   "id": "bcaa4819-4608-4e07-87c4-2032df5377e4",
   "metadata": {},
   "source": [
    "Similar to Stan, this initialization scheme \n",
    "\n",
    "* initializes parameter values $\\theta \\in \\mathbb{R}^D$ with $U_d(-2, 2)$ draws for $d = 1:D$, such that the log_density and its gradient are finite\n",
    "* adapts the step size based on the change in the [Hamiltonian](https://mc-stan.org/docs/reference-manual/hamiltonian-monte-carlo.html#the-hamiltonian) from the initial point to the final point reached by leapfrog steps,\n",
    "* does not adapt the scale of the momentum, the metric,\n",
    "* limits the maximum number of leapfrog steps within an iteration to $2^{10}$ by default, and\n",
    "* calculates divergences and aborts trajectories if a divergence is reached before a u-turn occurs."
   ]
  },
  {
   "cell_type": "markdown",
   "id": "d163eb15-b0e2-44b5-9415-11106bb03b3b",
   "metadata": {},
   "source": [
    "Different from Stan, this initialization scheme\n",
    "\n",
    "* ignores detailed balance and simply stop leapfrog steps when a u-turn is reached, and\n",
    "* the final position upon a u-turn is always accepted (assuming the trajectory did not diverge)."
   ]
  },
  {
   "cell_type": "markdown",
   "id": "806f7b4c-eefb-4ebd-99c3-173a45c27352",
   "metadata": {},
   "source": [
    "## Algorithm details"
   ]
  },
  {
   "cell_type": "markdown",
   "id": "aab71bf3-2c86-4b49-86cf-fee4203b7cac",
   "metadata": {},
   "source": [
    "**input**: log_density_gradient() for a Stan program, dimension D\n",
    "\n",
    "**output**: a point in parameter space as close to the typical set as Stan might produce\n",
    "\n",
    "1. initialize $\\theta$ from $U(-2, 2)$\n",
    "2. initialize step_size\n",
    "3. sample direction from $U(\\{-1, 1\\})$\n",
    "4. for step in 1:75\n",
    "    * sample momentum from $N(0, I_D)$\n",
    "    * while n_leapfrog < max_leapfrogs\n",
    "        * position' = position; momentum' = momentum\n",
    "        * n_leapfrog += 1\n",
    "        * position', momentum' = leapfrog(position', momentum', direction * step_size)\n",
    "        * calculate change in Hamiltonian\n",
    "        * if divergent: break\n",
    "        * if u_turn: break\n",
    "    * update step_size\n",
    "    * if not divergent: position = position'"
   ]
  },
  {
   "cell_type": "code",
   "execution_count": 16,
   "id": "31d6e231-5a78-4e8b-847a-51ef582388b2",
   "metadata": {},
   "outputs": [],
   "source": [
    "from cmdstanpy import CmdStanModel\n",
    "from initialize import initialize # the proposed intialization procedure\n",
    "from pathlib import Path\n",
    "\n",
    "import ot # POT: Python Optimal Transport https://pythonot.github.io/index.html\n",
    "\n",
    "import bridgestan as bs\n",
    "bs.set_bridgestan_path(Path.home() / \"bridgestan\")\n",
    "\n",
    "import matplotlib.pyplot as plt\n",
    "import numpy as np\n",
    "import pandas as pd"
   ]
  },
  {
   "cell_type": "code",
   "execution_count": 27,
   "id": "8107e055-9f9a-446a-9943-60373269786c",
   "metadata": {},
   "outputs": [],
   "source": [
    "model = \"earnings-earn_height\" # typical set is far away\n",
    "# model = \"arma-arma11\"\n",
    "stan_file = Path.home() / \"minipdb\" / \"programs\" / model / (model + \".stan\")\n",
    "data_file = Path.home() / \"minipdb\" / \"programs\" / model / (model + \".json\")\n",
    "\n",
    "bsm = bs.StanModel(stan_file, data_file)\n",
    "dim = bsm.param_unc_num()\n",
    "\n",
    "def ldg(position, gradient):\n",
    "    ld = -np.inf\n",
    "    try:\n",
    "        ld, _ = bsm.log_density_gradient(position, out = gradient)\n",
    "    except:\n",
    "        pass\n",
    "    return ld"
   ]
  },
  {
   "cell_type": "code",
   "execution_count": 28,
   "id": "3c181302-3485-413d-a086-bdb4d0b5ddca",
   "metadata": {},
   "outputs": [
    {
     "name": "stderr",
     "output_type": "stream",
     "text": [
      "09:54:30 - cmdstanpy - INFO - CmdStan start processing\n",
      "09:54:30 - cmdstanpy - INFO - Chain [1] start processing\n",
      "09:54:31 - cmdstanpy - INFO - Chain [1] done processing\n",
      "09:54:32 - cmdstanpy - INFO - CmdStan start processing\n",
      "09:54:32 - cmdstanpy - INFO - Chain [1] start processing\n",
      "09:54:33 - cmdstanpy - INFO - Chain [1] done processing\n",
      "09:54:34 - cmdstanpy - INFO - CmdStan start processing\n",
      "09:54:34 - cmdstanpy - INFO - Chain [1] start processing\n",
      "09:54:35 - cmdstanpy - INFO - Chain [1] done processing\n",
      "09:54:35 - cmdstanpy - INFO - CmdStan start processing\n",
      "09:54:35 - cmdstanpy - INFO - Chain [1] start processing\n",
      "09:54:36 - cmdstanpy - INFO - Chain [1] done processing\n",
      "09:54:37 - cmdstanpy - INFO - CmdStan start processing\n",
      "09:54:37 - cmdstanpy - INFO - Chain [1] start processing\n",
      "09:54:38 - cmdstanpy - INFO - Chain [1] done processing\n",
      "09:54:39 - cmdstanpy - INFO - CmdStan start processing\n",
      "09:54:39 - cmdstanpy - INFO - Chain [1] start processing\n",
      "09:54:40 - cmdstanpy - INFO - Chain [1] done processing\n",
      "09:54:41 - cmdstanpy - INFO - CmdStan start processing\n",
      "09:54:41 - cmdstanpy - INFO - Chain [1] start processing\n",
      "09:54:42 - cmdstanpy - INFO - Chain [1] done processing\n",
      "09:54:42 - cmdstanpy - INFO - CmdStan start processing\n",
      "09:54:42 - cmdstanpy - INFO - Chain [1] start processing\n",
      "09:54:43 - cmdstanpy - INFO - Chain [1] done processing\n",
      "09:54:45 - cmdstanpy - INFO - CmdStan start processing\n",
      "09:54:45 - cmdstanpy - INFO - Chain [1] start processing\n",
      "09:54:46 - cmdstanpy - INFO - Chain [1] done processing\n",
      "09:54:46 - cmdstanpy - INFO - CmdStan start processing\n",
      "09:54:46 - cmdstanpy - INFO - Chain [1] start processing\n",
      "09:54:47 - cmdstanpy - INFO - Chain [1] done processing\n",
      "09:54:49 - cmdstanpy - INFO - CmdStan start processing\n",
      "09:54:49 - cmdstanpy - INFO - Chain [1] start processing\n",
      "09:54:49 - cmdstanpy - INFO - Chain [1] done processing\n",
      "09:54:51 - cmdstanpy - INFO - CmdStan start processing\n",
      "09:54:51 - cmdstanpy - INFO - Chain [1] start processing\n",
      "09:54:52 - cmdstanpy - INFO - Chain [1] done processing\n",
      "09:54:53 - cmdstanpy - INFO - CmdStan start processing\n",
      "09:54:53 - cmdstanpy - INFO - Chain [1] start processing\n",
      "09:54:54 - cmdstanpy - INFO - Chain [1] done processing\n",
      "09:54:56 - cmdstanpy - INFO - CmdStan start processing\n",
      "09:54:56 - cmdstanpy - INFO - Chain [1] start processing\n",
      "09:54:57 - cmdstanpy - INFO - Chain [1] done processing\n",
      "09:54:57 - cmdstanpy - INFO - CmdStan start processing\n",
      "09:54:57 - cmdstanpy - INFO - Chain [1] start processing\n",
      "09:54:58 - cmdstanpy - INFO - Chain [1] done processing\n",
      "09:54:59 - cmdstanpy - INFO - CmdStan start processing\n",
      "09:54:59 - cmdstanpy - INFO - Chain [1] start processing\n",
      "09:55:00 - cmdstanpy - INFO - Chain [1] done processing\n",
      "09:55:01 - cmdstanpy - INFO - CmdStan start processing\n",
      "09:55:01 - cmdstanpy - INFO - Chain [1] start processing\n",
      "09:55:01 - cmdstanpy - INFO - Chain [1] done processing\n",
      "09:55:02 - cmdstanpy - INFO - CmdStan start processing\n",
      "09:55:02 - cmdstanpy - INFO - Chain [1] start processing\n",
      "09:55:02 - cmdstanpy - INFO - Chain [1] done processing\n",
      "09:55:04 - cmdstanpy - INFO - CmdStan start processing\n",
      "09:55:04 - cmdstanpy - INFO - Chain [1] start processing\n",
      "09:55:05 - cmdstanpy - INFO - Chain [1] done processing\n",
      "09:55:07 - cmdstanpy - INFO - CmdStan start processing\n",
      "09:55:07 - cmdstanpy - INFO - Chain [1] start processing\n",
      "09:55:07 - cmdstanpy - INFO - Chain [1] done processing\n",
      "09:55:08 - cmdstanpy - INFO - CmdStan start processing\n",
      "09:55:08 - cmdstanpy - INFO - Chain [1] start processing\n",
      "09:55:09 - cmdstanpy - INFO - Chain [1] done processing\n",
      "09:55:09 - cmdstanpy - INFO - CmdStan start processing\n",
      "09:55:09 - cmdstanpy - INFO - Chain [1] start processing\n",
      "09:55:10 - cmdstanpy - INFO - Chain [1] done processing\n",
      "09:55:11 - cmdstanpy - INFO - CmdStan start processing\n",
      "09:55:11 - cmdstanpy - INFO - Chain [1] start processing\n",
      "09:55:12 - cmdstanpy - INFO - Chain [1] done processing\n",
      "09:55:14 - cmdstanpy - INFO - CmdStan start processing\n",
      "09:55:14 - cmdstanpy - INFO - Chain [1] start processing\n",
      "09:55:15 - cmdstanpy - INFO - Chain [1] done processing\n",
      "09:55:16 - cmdstanpy - INFO - CmdStan start processing\n",
      "09:55:16 - cmdstanpy - INFO - Chain [1] start processing\n",
      "09:55:16 - cmdstanpy - INFO - Chain [1] done processing\n",
      "09:55:17 - cmdstanpy - INFO - CmdStan start processing\n",
      "09:55:17 - cmdstanpy - INFO - Chain [1] start processing\n",
      "09:55:18 - cmdstanpy - INFO - Chain [1] done processing\n",
      "09:55:19 - cmdstanpy - INFO - CmdStan start processing\n",
      "09:55:19 - cmdstanpy - INFO - Chain [1] start processing\n",
      "09:55:20 - cmdstanpy - INFO - Chain [1] done processing\n",
      "09:55:22 - cmdstanpy - INFO - CmdStan start processing\n",
      "09:55:22 - cmdstanpy - INFO - Chain [1] start processing\n",
      "09:55:22 - cmdstanpy - INFO - Chain [1] done processing\n",
      "09:55:24 - cmdstanpy - INFO - CmdStan start processing\n",
      "09:55:24 - cmdstanpy - INFO - Chain [1] start processing\n",
      "09:55:25 - cmdstanpy - INFO - Chain [1] done processing\n",
      "09:55:25 - cmdstanpy - INFO - CmdStan start processing\n",
      "09:55:25 - cmdstanpy - INFO - Chain [1] start processing\n",
      "09:55:26 - cmdstanpy - INFO - Chain [1] done processing\n",
      "09:55:26 - cmdstanpy - INFO - CmdStan start processing\n",
      "09:55:26 - cmdstanpy - INFO - Chain [1] start processing\n",
      "09:55:28 - cmdstanpy - INFO - Chain [1] done processing\n",
      "09:55:29 - cmdstanpy - INFO - CmdStan start processing\n",
      "09:55:29 - cmdstanpy - INFO - Chain [1] start processing\n",
      "09:55:29 - cmdstanpy - INFO - Chain [1] done processing\n",
      "09:55:30 - cmdstanpy - INFO - CmdStan start processing\n",
      "09:55:30 - cmdstanpy - INFO - Chain [1] start processing\n",
      "09:55:31 - cmdstanpy - INFO - Chain [1] done processing\n",
      "09:55:31 - cmdstanpy - INFO - CmdStan start processing\n",
      "09:55:31 - cmdstanpy - INFO - Chain [1] start processing\n",
      "09:55:32 - cmdstanpy - INFO - Chain [1] done processing\n",
      "09:55:33 - cmdstanpy - INFO - CmdStan start processing\n",
      "09:55:33 - cmdstanpy - INFO - Chain [1] start processing\n",
      "09:55:34 - cmdstanpy - INFO - Chain [1] done processing\n",
      "09:55:35 - cmdstanpy - INFO - CmdStan start processing\n",
      "09:55:35 - cmdstanpy - INFO - Chain [1] start processing\n",
      "09:55:36 - cmdstanpy - INFO - Chain [1] done processing\n",
      "09:55:37 - cmdstanpy - INFO - CmdStan start processing\n",
      "09:55:37 - cmdstanpy - INFO - Chain [1] start processing\n",
      "09:55:38 - cmdstanpy - INFO - Chain [1] done processing\n",
      "09:55:40 - cmdstanpy - INFO - CmdStan start processing\n",
      "09:55:40 - cmdstanpy - INFO - Chain [1] start processing\n",
      "09:55:41 - cmdstanpy - INFO - Chain [1] done processing\n",
      "09:55:41 - cmdstanpy - INFO - CmdStan start processing\n",
      "09:55:41 - cmdstanpy - INFO - Chain [1] start processing\n",
      "09:55:42 - cmdstanpy - INFO - Chain [1] done processing\n",
      "09:55:44 - cmdstanpy - INFO - CmdStan start processing\n",
      "09:55:44 - cmdstanpy - INFO - Chain [1] start processing\n",
      "09:55:45 - cmdstanpy - INFO - Chain [1] done processing\n",
      "09:55:46 - cmdstanpy - INFO - CmdStan start processing\n",
      "09:55:46 - cmdstanpy - INFO - Chain [1] start processing\n",
      "09:55:47 - cmdstanpy - INFO - Chain [1] done processing\n",
      "09:55:48 - cmdstanpy - INFO - CmdStan start processing\n",
      "09:55:48 - cmdstanpy - INFO - Chain [1] start processing\n",
      "09:55:49 - cmdstanpy - INFO - Chain [1] done processing\n",
      "09:55:50 - cmdstanpy - INFO - CmdStan start processing\n",
      "09:55:50 - cmdstanpy - INFO - Chain [1] start processing\n",
      "09:55:51 - cmdstanpy - INFO - Chain [1] done processing\n",
      "09:55:52 - cmdstanpy - INFO - CmdStan start processing\n",
      "09:55:52 - cmdstanpy - INFO - Chain [1] start processing\n",
      "09:55:53 - cmdstanpy - INFO - Chain [1] done processing\n",
      "09:55:54 - cmdstanpy - INFO - CmdStan start processing\n",
      "09:55:54 - cmdstanpy - INFO - Chain [1] start processing\n",
      "09:55:55 - cmdstanpy - INFO - Chain [1] done processing\n",
      "09:55:56 - cmdstanpy - INFO - CmdStan start processing\n",
      "09:55:56 - cmdstanpy - INFO - Chain [1] start processing\n",
      "09:55:56 - cmdstanpy - INFO - Chain [1] done processing\n",
      "09:55:58 - cmdstanpy - INFO - CmdStan start processing\n",
      "09:55:58 - cmdstanpy - INFO - Chain [1] start processing\n",
      "09:55:59 - cmdstanpy - INFO - Chain [1] done processing\n",
      "09:56:00 - cmdstanpy - INFO - CmdStan start processing\n",
      "09:56:00 - cmdstanpy - INFO - Chain [1] start processing\n",
      "09:56:01 - cmdstanpy - INFO - Chain [1] done processing\n",
      "09:56:02 - cmdstanpy - INFO - CmdStan start processing\n",
      "09:56:02 - cmdstanpy - INFO - Chain [1] start processing\n",
      "09:56:03 - cmdstanpy - INFO - Chain [1] done processing\n",
      "09:56:04 - cmdstanpy - INFO - CmdStan start processing\n",
      "09:56:04 - cmdstanpy - INFO - Chain [1] start processing\n",
      "09:56:05 - cmdstanpy - INFO - Chain [1] done processing\n",
      "09:56:06 - cmdstanpy - INFO - CmdStan start processing\n",
      "09:56:06 - cmdstanpy - INFO - Chain [1] start processing\n",
      "09:56:06 - cmdstanpy - INFO - Chain [1] done processing\n",
      "09:56:07 - cmdstanpy - INFO - CmdStan start processing\n",
      "09:56:07 - cmdstanpy - INFO - Chain [1] start processing\n",
      "09:56:08 - cmdstanpy - INFO - Chain [1] done processing\n",
      "09:56:09 - cmdstanpy - INFO - CmdStan start processing\n",
      "09:56:09 - cmdstanpy - INFO - Chain [1] start processing\n",
      "09:56:10 - cmdstanpy - INFO - Chain [1] done processing\n",
      "09:56:11 - cmdstanpy - INFO - CmdStan start processing\n",
      "09:56:11 - cmdstanpy - INFO - Chain [1] start processing\n",
      "09:56:12 - cmdstanpy - INFO - Chain [1] done processing\n",
      "09:56:13 - cmdstanpy - INFO - CmdStan start processing\n",
      "09:56:13 - cmdstanpy - INFO - Chain [1] start processing\n",
      "09:56:13 - cmdstanpy - INFO - Chain [1] done processing\n",
      "09:56:14 - cmdstanpy - INFO - CmdStan start processing\n",
      "09:56:14 - cmdstanpy - INFO - Chain [1] start processing\n",
      "09:56:16 - cmdstanpy - INFO - Chain [1] done processing\n",
      "09:56:16 - cmdstanpy - INFO - CmdStan start processing\n",
      "09:56:16 - cmdstanpy - INFO - Chain [1] start processing\n",
      "09:56:17 - cmdstanpy - INFO - Chain [1] done processing\n",
      "09:56:19 - cmdstanpy - INFO - CmdStan start processing\n",
      "09:56:19 - cmdstanpy - INFO - Chain [1] start processing\n",
      "09:56:20 - cmdstanpy - INFO - Chain [1] done processing\n",
      "09:56:20 - cmdstanpy - INFO - CmdStan start processing\n",
      "09:56:20 - cmdstanpy - INFO - Chain [1] start processing\n",
      "09:56:22 - cmdstanpy - INFO - Chain [1] done processing\n",
      "09:56:23 - cmdstanpy - INFO - CmdStan start processing\n",
      "09:56:23 - cmdstanpy - INFO - Chain [1] start processing\n",
      "09:56:24 - cmdstanpy - INFO - Chain [1] done processing\n",
      "09:56:25 - cmdstanpy - INFO - CmdStan start processing\n",
      "09:56:25 - cmdstanpy - INFO - Chain [1] start processing\n",
      "09:56:25 - cmdstanpy - INFO - Chain [1] done processing\n",
      "09:56:27 - cmdstanpy - INFO - CmdStan start processing\n",
      "09:56:27 - cmdstanpy - INFO - Chain [1] start processing\n",
      "09:56:27 - cmdstanpy - INFO - Chain [1] done processing\n",
      "09:56:28 - cmdstanpy - INFO - CmdStan start processing\n",
      "09:56:28 - cmdstanpy - INFO - Chain [1] start processing\n",
      "09:56:29 - cmdstanpy - INFO - Chain [1] done processing\n",
      "09:56:30 - cmdstanpy - INFO - CmdStan start processing\n",
      "09:56:30 - cmdstanpy - INFO - Chain [1] start processing\n",
      "09:56:31 - cmdstanpy - INFO - Chain [1] done processing\n",
      "09:56:33 - cmdstanpy - INFO - CmdStan start processing\n",
      "09:56:33 - cmdstanpy - INFO - Chain [1] start processing\n",
      "09:56:34 - cmdstanpy - INFO - Chain [1] done processing\n",
      "09:56:35 - cmdstanpy - INFO - CmdStan start processing\n",
      "09:56:35 - cmdstanpy - INFO - Chain [1] start processing\n",
      "09:56:36 - cmdstanpy - INFO - Chain [1] done processing\n",
      "09:56:37 - cmdstanpy - INFO - CmdStan start processing\n",
      "09:56:37 - cmdstanpy - INFO - Chain [1] start processing\n",
      "09:56:38 - cmdstanpy - INFO - Chain [1] done processing\n",
      "09:56:40 - cmdstanpy - INFO - CmdStan start processing\n",
      "09:56:40 - cmdstanpy - INFO - Chain [1] start processing\n",
      "09:56:41 - cmdstanpy - INFO - Chain [1] done processing\n",
      "09:56:42 - cmdstanpy - INFO - CmdStan start processing\n",
      "09:56:42 - cmdstanpy - INFO - Chain [1] start processing\n",
      "09:56:43 - cmdstanpy - INFO - Chain [1] done processing\n",
      "09:56:44 - cmdstanpy - INFO - CmdStan start processing\n",
      "09:56:44 - cmdstanpy - INFO - Chain [1] start processing\n",
      "09:56:44 - cmdstanpy - INFO - Chain [1] done processing\n",
      "09:56:45 - cmdstanpy - INFO - CmdStan start processing\n",
      "09:56:45 - cmdstanpy - INFO - Chain [1] start processing\n",
      "09:56:46 - cmdstanpy - INFO - Chain [1] done processing\n",
      "09:56:48 - cmdstanpy - INFO - CmdStan start processing\n",
      "09:56:48 - cmdstanpy - INFO - Chain [1] start processing\n",
      "09:56:49 - cmdstanpy - INFO - Chain [1] done processing\n",
      "09:56:50 - cmdstanpy - INFO - CmdStan start processing\n",
      "09:56:50 - cmdstanpy - INFO - Chain [1] start processing\n",
      "09:56:51 - cmdstanpy - INFO - Chain [1] done processing\n",
      "09:56:52 - cmdstanpy - INFO - CmdStan start processing\n",
      "09:56:52 - cmdstanpy - INFO - Chain [1] start processing\n",
      "09:56:53 - cmdstanpy - INFO - Chain [1] done processing\n",
      "09:56:55 - cmdstanpy - INFO - CmdStan start processing\n",
      "09:56:55 - cmdstanpy - INFO - Chain [1] start processing\n",
      "09:56:55 - cmdstanpy - INFO - Chain [1] done processing\n",
      "09:56:56 - cmdstanpy - INFO - CmdStan start processing\n",
      "09:56:56 - cmdstanpy - INFO - Chain [1] start processing\n",
      "09:56:57 - cmdstanpy - INFO - Chain [1] done processing\n",
      "09:56:58 - cmdstanpy - INFO - CmdStan start processing\n",
      "09:56:58 - cmdstanpy - INFO - Chain [1] start processing\n",
      "09:56:59 - cmdstanpy - INFO - Chain [1] done processing\n",
      "09:56:59 - cmdstanpy - INFO - CmdStan start processing\n",
      "09:56:59 - cmdstanpy - INFO - Chain [1] start processing\n",
      "09:57:00 - cmdstanpy - INFO - Chain [1] done processing\n",
      "09:57:01 - cmdstanpy - INFO - CmdStan start processing\n",
      "09:57:01 - cmdstanpy - INFO - Chain [1] start processing\n",
      "09:57:02 - cmdstanpy - INFO - Chain [1] done processing\n",
      "09:57:03 - cmdstanpy - INFO - CmdStan start processing\n",
      "09:57:03 - cmdstanpy - INFO - Chain [1] start processing\n",
      "09:57:04 - cmdstanpy - INFO - Chain [1] done processing\n",
      "09:57:04 - cmdstanpy - INFO - CmdStan start processing\n",
      "09:57:04 - cmdstanpy - INFO - Chain [1] start processing\n",
      "09:57:05 - cmdstanpy - INFO - Chain [1] done processing\n",
      "09:57:08 - cmdstanpy - INFO - CmdStan start processing\n",
      "09:57:08 - cmdstanpy - INFO - Chain [1] start processing\n",
      "09:57:09 - cmdstanpy - INFO - Chain [1] done processing\n",
      "09:57:10 - cmdstanpy - INFO - CmdStan start processing\n",
      "09:57:10 - cmdstanpy - INFO - Chain [1] start processing\n",
      "09:57:11 - cmdstanpy - INFO - Chain [1] done processing\n",
      "09:57:12 - cmdstanpy - INFO - CmdStan start processing\n",
      "09:57:12 - cmdstanpy - INFO - Chain [1] start processing\n",
      "09:57:13 - cmdstanpy - INFO - Chain [1] done processing\n",
      "09:57:14 - cmdstanpy - INFO - CmdStan start processing\n",
      "09:57:14 - cmdstanpy - INFO - Chain [1] start processing\n",
      "09:57:15 - cmdstanpy - INFO - Chain [1] done processing\n",
      "09:57:16 - cmdstanpy - INFO - CmdStan start processing\n",
      "09:57:16 - cmdstanpy - INFO - Chain [1] start processing\n",
      "09:57:17 - cmdstanpy - INFO - Chain [1] done processing\n",
      "09:57:18 - cmdstanpy - INFO - CmdStan start processing\n",
      "09:57:18 - cmdstanpy - INFO - Chain [1] start processing\n",
      "09:57:19 - cmdstanpy - INFO - Chain [1] done processing\n",
      "09:57:20 - cmdstanpy - INFO - CmdStan start processing\n",
      "09:57:20 - cmdstanpy - INFO - Chain [1] start processing\n",
      "09:57:21 - cmdstanpy - INFO - Chain [1] done processing\n",
      "09:57:22 - cmdstanpy - INFO - CmdStan start processing\n",
      "09:57:22 - cmdstanpy - INFO - Chain [1] start processing\n",
      "09:57:23 - cmdstanpy - INFO - Chain [1] done processing\n",
      "09:57:24 - cmdstanpy - INFO - CmdStan start processing\n",
      "09:57:24 - cmdstanpy - INFO - Chain [1] start processing\n",
      "09:57:25 - cmdstanpy - INFO - Chain [1] done processing\n",
      "09:57:26 - cmdstanpy - INFO - CmdStan start processing\n",
      "09:57:26 - cmdstanpy - INFO - Chain [1] start processing\n",
      "09:57:27 - cmdstanpy - INFO - Chain [1] done processing\n",
      "09:57:28 - cmdstanpy - INFO - CmdStan start processing\n",
      "09:57:28 - cmdstanpy - INFO - Chain [1] start processing\n",
      "09:57:29 - cmdstanpy - INFO - Chain [1] done processing\n",
      "09:57:30 - cmdstanpy - INFO - CmdStan start processing\n",
      "09:57:30 - cmdstanpy - INFO - Chain [1] start processing\n",
      "09:57:31 - cmdstanpy - INFO - Chain [1] done processing\n",
      "09:57:33 - cmdstanpy - INFO - CmdStan start processing\n",
      "09:57:33 - cmdstanpy - INFO - Chain [1] start processing\n",
      "09:57:34 - cmdstanpy - INFO - Chain [1] done processing\n",
      "09:57:35 - cmdstanpy - INFO - CmdStan start processing\n",
      "09:57:35 - cmdstanpy - INFO - Chain [1] start processing\n",
      "09:57:36 - cmdstanpy - INFO - Chain [1] done processing\n",
      "09:57:37 - cmdstanpy - INFO - CmdStan start processing\n",
      "09:57:37 - cmdstanpy - INFO - Chain [1] start processing\n",
      "09:57:37 - cmdstanpy - INFO - Chain [1] done processing\n",
      "09:57:38 - cmdstanpy - INFO - CmdStan start processing\n",
      "09:57:38 - cmdstanpy - INFO - Chain [1] start processing\n",
      "09:57:38 - cmdstanpy - INFO - Chain [1] done processing\n",
      "09:57:39 - cmdstanpy - INFO - CmdStan start processing\n",
      "09:57:39 - cmdstanpy - INFO - Chain [1] start processing\n",
      "09:57:40 - cmdstanpy - INFO - Chain [1] done processing\n",
      "09:57:41 - cmdstanpy - INFO - CmdStan start processing\n",
      "09:57:41 - cmdstanpy - INFO - Chain [1] start processing\n",
      "09:57:41 - cmdstanpy - INFO - Chain [1] done processing\n",
      "09:57:42 - cmdstanpy - INFO - CmdStan start processing\n",
      "09:57:42 - cmdstanpy - INFO - Chain [1] start processing\n",
      "09:57:43 - cmdstanpy - INFO - Chain [1] done processing\n"
     ]
    }
   ],
   "source": [
    "M = 100 # number of simulations\n",
    "steps = 75\n",
    "degrees_before_cut_off = 75\n",
    "cut_off = np.cos(degrees_before_cut_off * np.pi / 180)\n",
    "\n",
    "stan_leapfrogs = np.zeros(M)\n",
    "new_leapfrogs = np.zeros(M)\n",
    "\n",
    "stan_params = np.zeros(shape = (M, dim))\n",
    "new_params = np.zeros(shape = (M, dim))\n",
    "\n",
    "# q_uturns = np.zeros(M)\n",
    "p_uturns = np.zeros(M)\n",
    "# o_uturns = np.zeros(M)\n",
    "count_p_uturns = {\"m_mn\": 0, \"m_ms\": 0, \"ms_mn\": 0, \"mb_mn\": 0, \"mb_ms\": 0}\n",
    "\n",
    "csm = CmdStanModel(stan_file = stan_file)\n",
    "\n",
    "for m in range(M):\n",
    "    rng = np.random.default_rng()\n",
    "    fit_new = initialize(rng, dim, ldg, cut_off = cut_off)\n",
    "    new_leapfrogs[m] = np.sum(fit_new[\"number_leapfrogs\"])\n",
    "    new_params[m, :] = fit_new[\"position\"]\n",
    "    # q_uturns[m] = fit_new[\"position_uturn\"]\n",
    "    p_uturns[m] = fit_new[\"momentum_uturn\"]  \n",
    "    # o_uturns[m] = fit_new[\"either_uturn\"]\n",
    "    for k in count_p_uturns.keys():\n",
    "        count_p_uturns[k] += fit_new[\"count_momentum_uturn\"][k]\n",
    "    \n",
    "    fit_stan = csm.sample(data = str(data_file),\n",
    "                          save_warmup = True,\n",
    "                          iter_sampling = 0,\n",
    "                          iter_warmup = 100,\n",
    "                          chains = 1,\n",
    "                          show_progress = False)\n",
    "    df_draws = fit_stan.draws_pd(inc_warmup = True)\n",
    "    stan_leapfrogs[m] = np.sum(df_draws[\"n_leapfrog__\"][:steps])\n",
    "    l = len(df_draws.columns)\n",
    "    q = df_draws.iloc[steps, (l - dim):l].values.copy()\n",
    "    stan_params[m, :] = bsm.param_unconstrain(q)"
   ]
  },
  {
   "cell_type": "code",
   "execution_count": 29,
   "id": "baefa191-7f7f-4a6c-8601-4026b41fa77c",
   "metadata": {},
   "outputs": [
    {
     "data": {
      "text/plain": [
       "<matplotlib.legend.Legend at 0x14a9b0c20>"
      ]
     },
     "execution_count": 29,
     "metadata": {},
     "output_type": "execute_result"
    },
    {
     "data": {
      "image/png": "[encoded data removed]",
      "text/plain": [
       "<Figure size 640x480 with 1 Axes>"
      ]
     },
     "metadata": {},
     "output_type": "display_data"
    }
   ],
   "source": [
    "plt.hist(new_leapfrogs, histtype = \"step\", label = \"new\")\n",
    "plt.hist(stan_leapfrogs, histtype = \"step\", label = \"stan\")\n",
    "plt.legend()"
   ]
  },
  {
   "cell_type": "code",
   "execution_count": 30,
   "id": "ca34fb88-fb13-499c-966c-f3bddce43e9e",
   "metadata": {},
   "outputs": [
    {
     "name": "stdout",
     "output_type": "stream",
     "text": [
      "ratio of mean leapfrogs: new / stan = 0.62\n",
      "ratio of median leapfrogs: new / stan = 0.62\n",
      "ratio of variance leapfrogs: new / stan = 0.41\n",
      "ratio of minimum leapfrogs: new / stan = 0.06\n",
      "ratio of maximum leapfrogs: new / stan = 0.75\n",
      "confidence interval of difference of mean leapfrogs, new - stan\n"
     ]
    },
    {
     "data": {
      "text/plain": [
       "array([-7542., -4440.])"
      ]
     },
     "execution_count": 30,
     "metadata": {},
     "output_type": "execute_result"
    }
   ],
   "source": [
    "mn = np.mean(new_leapfrogs)\n",
    "ms = np.mean(stan_leapfrogs)\n",
    "rm = np.round(mn / ms, 2)\n",
    "print(f\"ratio of mean leapfrogs: new / stan = {rm}\")\n",
    "\n",
    "mdn = np.median(new_leapfrogs)\n",
    "mds = np.median(stan_leapfrogs)\n",
    "rmd = np.round(mdn / mds, 2)\n",
    "print(f\"ratio of median leapfrogs: new / stan = {rmd}\")\n",
    "\n",
    "vn = np.var(new_leapfrogs)\n",
    "vs = np.var(stan_leapfrogs)\n",
    "rv = np.round(vn / vs, 2)\n",
    "print(f\"ratio of variance leapfrogs: new / stan = {rv}\")\n",
    "\n",
    "mnn = np.min(new_leapfrogs) \n",
    "mns = np.min(stan_leapfrogs)\n",
    "rmn = np.round(mnn / mns, 2)\n",
    "print(f\"ratio of minimum leapfrogs: new / stan = {rmn}\")\n",
    "\n",
    "mxn = np.max(new_leapfrogs) \n",
    "mxs = np.max(stan_leapfrogs)\n",
    "rmx = np.round(mxn / mxs, 2)\n",
    "print(f\"ratio of maximum leapfrogs: new / stan = {rmx}\")\n",
    "\n",
    "z = np.array([-1.96, 1.96])\n",
    "print(\"confidence interval of difference of mean leapfrogs, new - stan\")\n",
    "np.round((mn - ms) + z * np.sqrt((vn + vs) / M))"
   ]
  },
  {
   "cell_type": "code",
   "execution_count": 31,
   "id": "e06a5337-fa32-4e49-ba2f-b76fb7a5bb1b",
   "metadata": {},
   "outputs": [
    {
     "name": "stdout",
     "output_type": "stream",
     "text": [
      "exclusive momentum based uturns: 6219.0\n"
     ]
    }
   ],
   "source": [
    "print(f\"exclusive momentum based uturns: {np.sum(p_uturns)}\")\n",
    "# print(f\"exclusive position based uturns: {np.sum(q_uturns)}\")\n",
    "# print(f\"momentum and position based uturns: {np.sum(p_uturns) + np.sum(q_uturns) - np.sum(o_uturns)}\")\n",
    "# print(f\"momentum or position based uturns: {np.sum(o_uturns)}\")"
   ]
  },
  {
   "cell_type": "code",
   "execution_count": 32,
   "id": "9bc50ea5-0954-4043-89e3-84f96dafc973",
   "metadata": {},
   "outputs": [
    {
     "data": {
      "text/plain": [
       "{'m_mn': 3819, 'm_ms': 1312, 'ms_mn': 3732, 'mb_mn': 5216, 'mb_ms': 3979}"
      ]
     },
     "execution_count": 32,
     "metadata": {},
     "output_type": "execute_result"
    }
   ],
   "source": [
    "count_p_uturns"
   ]
  },
  {
   "cell_type": "code",
   "execution_count": 34,
   "id": "63eb63e1-44a0-4170-9a9c-55fa73030ed1",
   "metadata": {},
   "outputs": [
    {
     "data": {
      "text/plain": [
       "<matplotlib.legend.Legend at 0x14bd9a330>"
      ]
     },
     "execution_count": 34,
     "metadata": {},
     "output_type": "execute_result"
    },
    {
     "data": {
      "image/png": "[encoded data removed]",
      "text/plain": [
       "<Figure size 700x400 with 4 Axes>"
      ]
     },
     "metadata": {},
     "output_type": "display_data"
    }
   ],
   "source": [
    "n_cols = 4\n",
    "n_rows = np.divmod(dim, n_cols)[0] + 1\n",
    "fig, axs = plt.subplots(n_rows, n_cols, figsize = (7, 4))\n",
    "md = np.size(np.shape(axs))\n",
    "param_names = bsm.param_names()\n",
    "\n",
    "for d in range(dim):\n",
    "    ir, ic = np.divmod(d, n_cols)\n",
    "    ax = axs[ic] if md == 1 else axs[ir, ic]\n",
    "    ax.hist(new_params[:, d], histtype = \"step\", label = \"new\" if d == 0 else None)\n",
    "    ax.hist(stan_params[:, d], histtype = \"step\", label = \"stan\" if d == 0 else None)\n",
    "    ax.title.set_text(param_names[d])\n",
    "fig.tight_layout()\n",
    "fig.legend()"
   ]
  },
  {
   "cell_type": "code",
   "execution_count": 35,
   "id": "79bee1e4-e46c-4333-a273-dbdb7a2b6022",
   "metadata": {},
   "outputs": [
    {
     "data": {
      "text/html": [
       "<div>\n",
       "<style scoped>\n",
       "    .dataframe tbody tr th:only-of-type {\n",
       "        vertical-align: middle;\n",
       "    }\n",
       "\n",
       "    .dataframe tbody tr th {\n",
       "        vertical-align: top;\n",
       "    }\n",
       "\n",
       "    .dataframe thead th {\n",
       "        text-align: right;\n",
       "    }\n",
       "</style>\n",
       "<table border=\"1\" class=\"dataframe\">\n",
       "  <thead>\n",
       "    <tr style=\"text-align: right;\">\n",
       "      <th></th>\n",
       "      <th>mean_new</th>\n",
       "      <th>mean_stan</th>\n",
       "      <th>std_new</th>\n",
       "      <th>st_stan</th>\n",
       "      <th>q05_new</th>\n",
       "      <th>q05_stan</th>\n",
       "      <th>q25_new</th>\n",
       "      <th>q25_stan</th>\n",
       "      <th>q50_new</th>\n",
       "      <th>q50_stan</th>\n",
       "      <th>q75_new</th>\n",
       "      <th>q75_stan</th>\n",
       "      <th>q95_new</th>\n",
       "      <th>q95_stan</th>\n",
       "    </tr>\n",
       "  </thead>\n",
       "  <tbody>\n",
       "    <tr>\n",
       "      <th>0</th>\n",
       "      <td>9.93</td>\n",
       "      <td>8.11</td>\n",
       "      <td>110.88</td>\n",
       "      <td>54.25</td>\n",
       "      <td>-197.93</td>\n",
       "      <td>-70.56</td>\n",
       "      <td>-54.17</td>\n",
       "      <td>-24.42</td>\n",
       "      <td>4.19</td>\n",
       "      <td>0.06</td>\n",
       "      <td>83.82</td>\n",
       "      <td>37.08</td>\n",
       "      <td>211.13</td>\n",
       "      <td>105.96</td>\n",
       "    </tr>\n",
       "    <tr>\n",
       "      <th>1</th>\n",
       "      <td>342.90</td>\n",
       "      <td>326.02</td>\n",
       "      <td>73.21</td>\n",
       "      <td>61.08</td>\n",
       "      <td>258.29</td>\n",
       "      <td>195.23</td>\n",
       "      <td>332.40</td>\n",
       "      <td>325.25</td>\n",
       "      <td>352.16</td>\n",
       "      <td>345.08</td>\n",
       "      <td>366.01</td>\n",
       "      <td>352.97</td>\n",
       "      <td>396.39</td>\n",
       "      <td>362.15</td>\n",
       "    </tr>\n",
       "    <tr>\n",
       "      <th>2</th>\n",
       "      <td>9.90</td>\n",
       "      <td>9.88</td>\n",
       "      <td>0.14</td>\n",
       "      <td>0.05</td>\n",
       "      <td>9.76</td>\n",
       "      <td>9.84</td>\n",
       "      <td>9.84</td>\n",
       "      <td>9.86</td>\n",
       "      <td>9.87</td>\n",
       "      <td>9.87</td>\n",
       "      <td>9.91</td>\n",
       "      <td>9.89</td>\n",
       "      <td>10.18</td>\n",
       "      <td>10.02</td>\n",
       "    </tr>\n",
       "  </tbody>\n",
       "</table>\n",
       "</div>"
      ],
      "text/plain": [
       "   mean_new  mean_stan  std_new  st_stan  q05_new  q05_stan  q25_new  \\\n",
       "0      9.93       8.11   110.88    54.25  -197.93    -70.56   -54.17   \n",
       "1    342.90     326.02    73.21    61.08   258.29    195.23   332.40   \n",
       "2      9.90       9.88     0.14     0.05     9.76      9.84     9.84   \n",
       "\n",
       "   q25_stan  q50_new  q50_stan  q75_new  q75_stan  q95_new  q95_stan  \n",
       "0    -24.42     4.19      0.06    83.82     37.08   211.13    105.96  \n",
       "1    325.25   352.16    345.08   366.01    352.97   396.39    362.15  \n",
       "2      9.86     9.87      9.87     9.91      9.89    10.18     10.02  "
      ]
     },
     "execution_count": 35,
     "metadata": {},
     "output_type": "execute_result"
    }
   ],
   "source": [
    "evs = {\n",
    "    \"mean_new\": np.mean(new_params, axis = 0),\n",
    "    \"mean_stan\": np.mean(stan_params, axis = 0),\n",
    "    \n",
    "    \"std_new\": np.std(new_params, axis = 0),\n",
    "    \"st_stan\": np.std(stan_params, axis = 0),\n",
    "    \n",
    "    \"q05_new\": np.quantile(new_params, 0.05, axis = 0),\n",
    "    \"q05_stan\": np.quantile(stan_params, 0.05, axis = 0),\n",
    "    \n",
    "    \"q25_new\": np.quantile(new_params, 0.25, axis = 0),\n",
    "    \"q25_stan\": np.quantile(stan_params, 0.25, axis = 0),\n",
    "\n",
    "    \"q50_new\": np.quantile(new_params, 0.5, axis = 0),\n",
    "    \"q50_stan\": np.quantile(stan_params, 0.5, axis = 0),\n",
    "\n",
    "    \"q75_new\": np.quantile(new_params, 0.75, axis = 0),\n",
    "    \"q75_stan\": np.quantile(stan_params, 0.75, axis = 0),\n",
    "\n",
    "    \"q95_new\": np.quantile(new_params, 0.95, axis = 0),\n",
    "    \"q95_stan\": np.quantile(stan_params, 0.95, axis = 0),\n",
    "}\n",
    "np.round(pd.DataFrame.from_dict(evs), 2)"
   ]
  },
  {
   "cell_type": "code",
   "execution_count": 22,
   "id": "f0cbcfa7-09a1-4b3c-a319-5e0e456160e9",
   "metadata": {},
   "outputs": [
    {
     "name": "stdout",
     "output_type": "stream",
     "text": [
      "Wasserstein-1(new_params, stan_params) =  0.67\n"
     ]
    }
   ],
   "source": [
    "# W-1 distance between parameter values for new init and stan init across all simulations\n",
    "equal_weights = np.ones(M) / M\n",
    "CM = ot.dist(new_params, stan_params, metric= \"euclidean\", p = 1)\n",
    "wn = ot.emd2(equal_weights, equal_weights, CM)\n",
    "print(f\"Wasserstein-1(new_params, stan_params) =  {np.round(wn, 2)}\")"
   ]
  },
  {
   "cell_type": "code",
   "execution_count": 23,
   "id": "62a0b328-bae9-4372-9c15-e98e8b0866fa",
   "metadata": {},
   "outputs": [
    {
     "name": "stdout",
     "output_type": "stream",
     "text": [
      "W-1( U(-2, 2), new_params) = 1.98\n"
     ]
    }
   ],
   "source": [
    "# How far did new init scheme move initial draws?\n",
    "sh = np.shape(stan_params)\n",
    "U = np.random.uniform(-2, 2, size = sh)\n",
    "UN = ot.dist(U, new_params, metric = \"euclidean\", p = 1)\n",
    "wnu = ot.emd2(equal_weights, equal_weights, UN)\n",
    "print(f\"W-1( U(-2, 2), new_params) = {np.round(wnu, 2)}\")"
   ]
  },
  {
   "cell_type": "code",
   "execution_count": 24,
   "id": "ba0e3135-15d8-42ac-8a1f-b925f50b0878",
   "metadata": {},
   "outputs": [
    {
     "name": "stdout",
     "output_type": "stream",
     "text": [
      "W-1( U(-2, 2), stan_params) = 1.9\n"
     ]
    }
   ],
   "source": [
    "# How far did Stan init scheme move initial draws?\n",
    "US = ot.dist(U, stan_params, metric = \"euclidean\", p = 1)\n",
    "wsu = ot.emd2(equal_weights, equal_weights, US)\n",
    "print(f\"W-1( U(-2, 2), stan_params) = {np.round(wsu, 2)}\")"
   ]
  },
  {
   "cell_type": "code",
   "execution_count": 25,
   "id": "7adc752d-e963-4298-939c-85d187a98bfe",
   "metadata": {},
   "outputs": [
    {
     "name": "stdout",
     "output_type": "stream",
     "text": [
      "W-1(new_params, stan_params) / W-1( U(-2, 2), stan_params): 0.35\n"
     ]
    }
   ],
   "source": [
    "# what's the relative distance between W-1(new_params, stan_params) and how far Stan \n",
    "# moved the initial U(-2, 2)\n",
    "print(f\"W-1(new_params, stan_params) / W-1( U(-2, 2), stan_params): {np.round(wn / wsu, 2)}\")"
   ]
  },
  {
   "cell_type": "code",
   "execution_count": null,
   "id": "1ab95468-0e65-425e-a302-8718a5e4cb69",
   "metadata": {},
   "outputs": [],
   "source": []
  }
 ],
 "metadata": {
  "kernelspec": {
   "display_name": "Python 3 (ipykernel)",
   "language": "python",
   "name": "python3"
  },
  "language_info": {
   "codemirror_mode": {
    "name": "ipython",
    "version": 3
   },
   "file_extension": ".py",
   "mimetype": "text/x-python",
   "name": "python",
   "nbconvert_exporter": "python",
   "pygments_lexer": "ipython3",
   "version": "3.12.1"
  }
 },
 "nbformat": 4,
 "nbformat_minor": 5
}
