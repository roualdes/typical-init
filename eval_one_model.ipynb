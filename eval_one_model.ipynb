{
 "cells": [
  {
   "cell_type": "markdown",
   "id": "b31e2d8b-722a-4540-9bf5-e3ea2514883b",
   "metadata": {},
   "source": [
    "# Typical Set Initialization"
   ]
  },
  {
   "cell_type": "markdown",
   "id": "ba8066ba-a5a2-4f79-b842-f4e9a61e3bd2",
   "metadata": {},
   "source": [
    "Stan's MCMC algorithm warms up with an initial fast adaptation interval with default length of 75 iterations.  In these first 75 iterations, \"the chain is allowed to converge towards the typical set\", see [Stan documentation, Section Automatic Parameter Tuning](https://mc-stan.org/docs/reference-manual/hmc-algorithm-parameters.html#automatic-parameter-tuning).  This notebook proposes a new initialization scheme which uses on average fewer gradient evaluations within 75 warmup iterations to move nearly the same distance toward the typical set."
   ]
  },
  {
   "cell_type": "markdown",
   "id": "03ad269d-a350-4464-a81a-af5d328ff1eb",
   "metadata": {},
   "source": [
    "During the 75 warm up iterations of the initial fast interval, Stan's dynamic HMC leapfrogs through phase space, numerically integrating a Hamiltonian system of equations and then selects a new point ensuring detailed balance holds.  The leapfrog steps ensure progress toward the typical set, while preserving detailed balance guarantees that the subsequent Markov chain will generate draws from the correct target distribution and thus appropriate means of the draws will approximate expectation values of interest.  Since these warmup iterations are commonly thrown away, this author believes there is an argument against spending the computational resources to preserve detailed balance."
   ]
  },
  {
   "cell_type": "markdown",
   "id": "1f078390-9ce8-45d9-97ff-b80aa8b3bdb1",
   "metadata": {},
   "source": [
    "In the most common use case of Stan, the initial 75 warmup iterations are to find the typical set, not to provide information about expectation values.  This notebook explores the efficiency gain, if any, to be had in giving up detailed balance during these initial 75 warmup iterations.  The goal is to trade the asymptotic guarantees of detailed balance for more efficient movement toward the typical set."
   ]
  },
  {
   "cell_type": "markdown",
   "id": "bcaa4819-4608-4e07-87c4-2032df5377e4",
   "metadata": {},
   "source": [
    "Similar to Stan, this initialization scheme \n",
    "\n",
    "* initializes parameter values $\\theta \\in \\mathbb{R}^D$ with $U_d(-2, 2)$ draws for $d = 1:D$, such that the log_density and its gradient are finite\n",
    "* adapts the step size based on the change in the [Hamiltonian](https://mc-stan.org/docs/reference-manual/hamiltonian-monte-carlo.html#the-hamiltonian) from the initial point to the final point reached by leapfrog steps,\n",
    "* does not adapt the scale of the momentum, the metric,\n",
    "* limits the maximum number of leapfrog steps within an iteration to $2^{10}$ by default, and\n",
    "* calculates divergences and aborts trajectories if a divergence is reached before a u-turn occurs."
   ]
  },
  {
   "cell_type": "markdown",
   "id": "d163eb15-b0e2-44b5-9415-11106bb03b3b",
   "metadata": {},
   "source": [
    "Different from Stan, this initialization scheme\n",
    "\n",
    "* ignores detailed balance and simply stop leapfrog steps when a u-turn is reached, and\n",
    "* the final position upon a u-turn is always accepted (assuming the trajectory did not diverge)."
   ]
  },
  {
   "cell_type": "markdown",
   "id": "806f7b4c-eefb-4ebd-99c3-173a45c27352",
   "metadata": {},
   "source": [
    "## Algorithm details"
   ]
  },
  {
   "cell_type": "markdown",
   "id": "aab71bf3-2c86-4b49-86cf-fee4203b7cac",
   "metadata": {},
   "source": [
    "**input**: log_density_gradient() for a Stan program, dimension D\n",
    "\n",
    "**output**: a point in parameter space as close to the typical set as Stan might produce\n",
    "\n",
    "1. initialize $\\theta$ from $U(-2, 2)$\n",
    "2. initialize step_size\n",
    "3. sample direction from $U(\\{-1, 1\\})$\n",
    "4. for step in 1:75\n",
    "    * sample momentum from $N(0, I_D)$\n",
    "    * while n_leapfrog < max_leapfrogs\n",
    "        * position' = position; momentum' = momentum\n",
    "        * n_leapfrog += 1\n",
    "        * position', momentum' = leapfrog(position', momentum', direction * step_size)\n",
    "        * calculate change in Hamiltonian\n",
    "        * if divergent: break\n",
    "        * if u_turn: break\n",
    "    * update step_size\n",
    "    * if not divergent: position = position'"
   ]
  },
  {
   "cell_type": "code",
   "execution_count": 16,
   "id": "31d6e231-5a78-4e8b-847a-51ef582388b2",
   "metadata": {},
   "outputs": [],
   "source": [
    "from cmdstanpy import CmdStanModel\n",
    "from initialize import initialize # the proposed intialization procedure\n",
    "from pathlib import Path\n",
    "\n",
    "import ot # POT: Python Optimal Transport https://pythonot.github.io/index.html\n",
    "\n",
    "import bridgestan as bs\n",
    "bs.set_bridgestan_path(Path.home() / \"bridgestan\")\n",
    "\n",
    "import matplotlib.pyplot as plt\n",
    "import numpy as np\n",
    "import pandas as pd"
   ]
  },
  {
   "cell_type": "code",
   "execution_count": 27,
   "id": "8107e055-9f9a-446a-9943-60373269786c",
   "metadata": {},
   "outputs": [],
   "source": [
    "model = \"earnings-earn_height\" # typical set is far away\n",
    "# model = \"arma-arma11\"\n",
    "stan_file = Path.home() / \"minipdb\" / \"programs\" / model / (model + \".stan\")\n",
    "data_file = Path.home() / \"minipdb\" / \"programs\" / model / (model + \".json\")\n",
    "\n",
    "bsm = bs.StanModel(stan_file, data_file)\n",
    "dim = bsm.param_unc_num()\n",
    "\n",
    "def ldg(position, gradient):\n",
    "    ld = -np.inf\n",
    "    try:\n",
    "        ld, _ = bsm.log_density_gradient(position, out = gradient)\n",
    "    except:\n",
    "        pass\n",
    "    return ld"
   ]
  },
  {
   "cell_type": "code",
   "execution_count": 28,
   "id": "3c181302-3485-413d-a086-bdb4d0b5ddca",
   "metadata": {},
   "outputs": [
    {
     "name": "stderr",
     "output_type": "stream",
     "text": [
      "09:20:45 - cmdstanpy - INFO - CmdStan start processing\n",
      "09:20:45 - cmdstanpy - INFO - Chain [1] start processing\n",
      "09:20:45 - cmdstanpy - INFO - Chain [1] done processing\n"
     ]
    }
   ],
   "source": [
    "M = 1 # number of simulations\n",
    "steps = 75\n",
    "degrees_before_cut_off = 75\n",
    "cut_off = np.cos(degrees_before_cut_off * np.pi / 180)\n",
    "\n",
    "stan_leapfrogs = np.zeros(M)\n",
    "new_leapfrogs = np.zeros(M)\n",
    "\n",
    "stan_params = np.zeros(shape = (M, dim))\n",
    "new_params = np.zeros(shape = (M, dim))\n",
    "\n",
    "# q_uturns = np.zeros(M)\n",
    "p_uturns = np.zeros(M)\n",
    "# o_uturns = np.zeros(M)\n",
    "count_p_uturns = {\"m_mn\": 0, \"m_ms\": 0, \"ms_mn\": 0, \"mb_mn\": 0, \"mb_ms\": 0}\n",
    "\n",
    "csm = CmdStanModel(stan_file = stan_file)\n",
    "\n",
    "for m in range(M):\n",
    "    rng = np.random.default_rng()\n",
    "    fit_new = initialize(rng, dim, ldg, cut_off = cut_off)\n",
    "    new_leapfrogs[m] = np.sum(fit_new[\"number_leapfrogs\"])\n",
    "    new_params[m, :] = fit_new[\"position\"]\n",
    "    # q_uturns[m] = fit_new[\"position_uturn\"]\n",
    "    p_uturns[m] = fit_new[\"momentum_uturn\"]  \n",
    "    # o_uturns[m] = fit_new[\"either_uturn\"]\n",
    "    for k in count_p_uturns.keys():\n",
    "        count_p_uturns[k] += fit_new[\"count_momentum_uturn\"][k]\n",
    "    \n",
    "    fit_stan = csm.sample(data = str(data_file),\n",
    "                          save_warmup = True,\n",
    "                          iter_sampling = 0,\n",
    "                          iter_warmup = 100,\n",
    "                          chains = 1,\n",
    "                          show_progress = False)\n",
    "    df_draws = fit_stan.draws_pd(inc_warmup = True)\n",
    "    stan_leapfrogs[m] = np.sum(df_draws[\"n_leapfrog__\"][:steps])\n",
    "    l = len(df_draws.columns)\n",
    "    q = df_draws.iloc[steps, (l - dim):l].values.copy()\n",
    "    stan_params[m, :] = bsm.param_unconstrain(q)"
   ]
  },
  {
   "cell_type": "code",
   "execution_count": 29,
   "id": "baefa191-7f7f-4a6c-8601-4026b41fa77c",
   "metadata": {},
   "outputs": [
    {
     "data": {
      "text/plain": [
       "<matplotlib.legend.Legend at 0x124bdddf0>"
      ]
     },
     "execution_count": 29,
     "metadata": {},
     "output_type": "execute_result"
    },
    {
     "data": {
      "image/png": "[encoded data removed]",
      "text/plain": [
       "<Figure size 640x480 with 1 Axes>"
      ]
     },
     "metadata": {},
     "output_type": "display_data"
    }
   ],
   "source": [
    "plt.hist(new_leapfrogs, histtype = \"step\", label = \"new\")\n",
    "plt.hist(stan_leapfrogs, histtype = \"step\", label = \"stan\")\n",
    "plt.legend()"
   ]
  },
  {
   "cell_type": "code",
   "execution_count": 30,
   "id": "ca34fb88-fb13-499c-966c-f3bddce43e9e",
   "metadata": {},
   "outputs": [
    {
     "name": "stdout",
     "output_type": "stream",
     "text": [
      "ratio of mean leapfrogs: new / stan = 0.3\n",
      "ratio of median leapfrogs: new / stan = 0.3\n",
      "ratio of variance leapfrogs: new / stan = nan\n",
      "ratio of minimum leapfrogs: new / stan = 0.3\n",
      "ratio of maximum leapfrogs: new / stan = 0.3\n",
      "confidence interval of difference of mean leapfrogs, new - stan\n"
     ]
    },
    {
     "name": "stderr",
     "output_type": "stream",
     "text": [
      "/var/folders/10/vhgkp_1x0p310y0lw2d5mx8h0000gn/T/ipykernel_65189/2221419576.py:13: RuntimeWarning: invalid value encountered in scalar divide\n",
      "  rv = np.round(vn / vs, 2)\n"
     ]
    },
    {
     "data": {
      "text/plain": [
       "array([-606., -606.])"
      ]
     },
     "execution_count": 30,
     "metadata": {},
     "output_type": "execute_result"
    }
   ],
   "source": [
    "mn = np.mean(new_leapfrogs)\n",
    "ms = np.mean(stan_leapfrogs)\n",
    "rm = np.round(mn / ms, 2)\n",
    "print(f\"ratio of mean leapfrogs: new / stan = {rm}\")\n",
    "\n",
    "mdn = np.median(new_leapfrogs)\n",
    "mds = np.median(stan_leapfrogs)\n",
    "rmd = np.round(mdn / mds, 2)\n",
    "print(f\"ratio of median leapfrogs: new / stan = {rmd}\")\n",
    "\n",
    "vn = np.var(new_leapfrogs)\n",
    "vs = np.var(stan_leapfrogs)\n",
    "rv = np.round(vn / vs, 2)\n",
    "print(f\"ratio of variance leapfrogs: new / stan = {rv}\")\n",
    "\n",
    "mnn = np.min(new_leapfrogs) \n",
    "mns = np.min(stan_leapfrogs)\n",
    "rmn = np.round(mnn / mns, 2)\n",
    "print(f\"ratio of minimum leapfrogs: new / stan = {rmn}\")\n",
    "\n",
    "mxn = np.max(new_leapfrogs) \n",
    "mxs = np.max(stan_leapfrogs)\n",
    "rmx = np.round(mxn / mxs, 2)\n",
    "print(f\"ratio of maximum leapfrogs: new / stan = {rmx}\")\n",
    "\n",
    "z = np.array([-1.96, 1.96])\n",
    "print(\"confidence interval of difference of mean leapfrogs, new - stan\")\n",
    "np.round((mn - ms) + z * np.sqrt((vn + vs) / M))"
   ]
  },
  {
   "cell_type": "code",
   "execution_count": 31,
   "id": "e06a5337-fa32-4e49-ba2f-b76fb7a5bb1b",
   "metadata": {},
   "outputs": [
    {
     "name": "stdout",
     "output_type": "stream",
     "text": [
      "exclusive momentum based uturns: 66.0\n",
      "exclusive position based uturns: 0.0\n",
      "momentum and position based uturns: 0.0\n",
      "momentum or position based uturns: 66.0\n"
     ]
    }
   ],
   "source": [
    "print(f\"exclusive momentum based uturns: {np.sum(p_uturns)}\")\n",
    "# print(f\"exclusive position based uturns: {np.sum(q_uturns)}\")\n",
    "# print(f\"momentum and position based uturns: {np.sum(p_uturns) + np.sum(q_uturns) - np.sum(o_uturns)}\")\n",
    "# print(f\"momentum or position based uturns: {np.sum(o_uturns)}\")"
   ]
  },
  {
   "cell_type": "code",
   "execution_count": 32,
   "id": "9bc50ea5-0954-4043-89e3-84f96dafc973",
   "metadata": {},
   "outputs": [
    {
     "data": {
      "text/plain": [
       "{'m_mn': 31, 'm_ms': 14, 'ms_mn': 31, 'mb_mn': 59, 'mb_ms': 49}"
      ]
     },
     "execution_count": 32,
     "metadata": {},
     "output_type": "execute_result"
    }
   ],
   "source": [
    "count_p_uturns"
   ]
  },
  {
   "cell_type": "code",
   "execution_count": 34,
   "id": "63eb63e1-44a0-4170-9a9c-55fa73030ed1",
   "metadata": {},
   "outputs": [
    {
     "data": {
      "text/plain": [
       "<matplotlib.legend.Legend at 0x124cd1970>"
      ]
     },
     "execution_count": 34,
     "metadata": {},
     "output_type": "execute_result"
    },
    {
     "data": {
      "image/png": "[encoded data removed]",
      "text/plain": [
       "<Figure size 700x400 with 4 Axes>"
      ]
     },
     "metadata": {},
     "output_type": "display_data"
    }
   ],
   "source": [
    "n_cols = 4\n",
    "n_rows = np.divmod(dim, n_cols)[0] + 1\n",
    "fig, axs = plt.subplots(n_rows, n_cols, figsize = (7, 4))\n",
    "md = np.size(np.shape(axs))\n",
    "param_names = bsm.param_names()\n",
    "\n",
    "for d in range(dim):\n",
    "    ir, ic = np.divmod(d, n_cols)\n",
    "    ax = axs[ic] if md == 1 else axs[ir, ic]\n",
    "    ax.hist(new_params[:, d], histtype = \"step\", label = \"new\" if d == 0 else None)\n",
    "    ax.hist(stan_params[:, d], histtype = \"step\", label = \"stan\" if d == 0 else None)\n",
    "    ax.title.set_text(param_names[d])\n",
    "fig.tight_layout()\n",
    "fig.legend()"
   ]
  },
  {
   "cell_type": "code",
   "execution_count": 35,
   "id": "79bee1e4-e46c-4333-a273-dbdb7a2b6022",
   "metadata": {},
   "outputs": [
    {
     "data": {
      "text/html": [
       "<div>\n",
       "<style scoped>\n",
       "    .dataframe tbody tr th:only-of-type {\n",
       "        vertical-align: middle;\n",
       "    }\n",
       "\n",
       "    .dataframe tbody tr th {\n",
       "        vertical-align: top;\n",
       "    }\n",
       "\n",
       "    .dataframe thead th {\n",
       "        text-align: right;\n",
       "    }\n",
       "</style>\n",
       "<table border=\"1\" class=\"dataframe\">\n",
       "  <thead>\n",
       "    <tr style=\"text-align: right;\">\n",
       "      <th></th>\n",
       "      <th>mean_new</th>\n",
       "      <th>mean_stan</th>\n",
       "      <th>std_new</th>\n",
       "      <th>st_stan</th>\n",
       "      <th>q05_new</th>\n",
       "      <th>q05_stan</th>\n",
       "      <th>q25_new</th>\n",
       "      <th>q25_stan</th>\n",
       "      <th>q50_new</th>\n",
       "      <th>q50_stan</th>\n",
       "      <th>q75_new</th>\n",
       "      <th>q75_stan</th>\n",
       "      <th>q95_new</th>\n",
       "      <th>q95_stan</th>\n",
       "    </tr>\n",
       "  </thead>\n",
       "  <tbody>\n",
       "    <tr>\n",
       "      <th>0</th>\n",
       "      <td>9.93</td>\n",
       "      <td>8.11</td>\n",
       "      <td>110.88</td>\n",
       "      <td>54.25</td>\n",
       "      <td>-197.93</td>\n",
       "      <td>-70.56</td>\n",
       "      <td>-54.17</td>\n",
       "      <td>-24.42</td>\n",
       "      <td>4.19</td>\n",
       "      <td>0.06</td>\n",
       "      <td>83.82</td>\n",
       "      <td>37.08</td>\n",
       "      <td>211.13</td>\n",
       "      <td>105.96</td>\n",
       "    </tr>\n",
       "    <tr>\n",
       "      <th>1</th>\n",
       "      <td>342.90</td>\n",
       "      <td>326.02</td>\n",
       "      <td>73.21</td>\n",
       "      <td>61.08</td>\n",
       "      <td>258.29</td>\n",
       "      <td>195.23</td>\n",
       "      <td>332.40</td>\n",
       "      <td>325.25</td>\n",
       "      <td>352.16</td>\n",
       "      <td>345.08</td>\n",
       "      <td>366.01</td>\n",
       "      <td>352.97</td>\n",
       "      <td>396.39</td>\n",
       "      <td>362.15</td>\n",
       "    </tr>\n",
       "    <tr>\n",
       "      <th>2</th>\n",
       "      <td>9.90</td>\n",
       "      <td>9.88</td>\n",
       "      <td>0.14</td>\n",
       "      <td>0.05</td>\n",
       "      <td>9.76</td>\n",
       "      <td>9.84</td>\n",
       "      <td>9.84</td>\n",
       "      <td>9.86</td>\n",
       "      <td>9.87</td>\n",
       "      <td>9.87</td>\n",
       "      <td>9.91</td>\n",
       "      <td>9.89</td>\n",
       "      <td>10.18</td>\n",
       "      <td>10.02</td>\n",
       "    </tr>\n",
       "  </tbody>\n",
       "</table>\n",
       "</div>"
      ],
      "text/plain": [
       "   mean_new  mean_stan  std_new  st_stan  q05_new  q05_stan  q25_new  \\\n",
       "0      9.93       8.11   110.88    54.25  -197.93    -70.56   -54.17   \n",
       "1    342.90     326.02    73.21    61.08   258.29    195.23   332.40   \n",
       "2      9.90       9.88     0.14     0.05     9.76      9.84     9.84   \n",
       "\n",
       "   q25_stan  q50_new  q50_stan  q75_new  q75_stan  q95_new  q95_stan  \n",
       "0    -24.42     4.19      0.06    83.82     37.08   211.13    105.96  \n",
       "1    325.25   352.16    345.08   366.01    352.97   396.39    362.15  \n",
       "2      9.86     9.87      9.87     9.91      9.89    10.18     10.02  "
      ]
     },
     "execution_count": 35,
     "metadata": {},
     "output_type": "execute_result"
    }
   ],
   "source": [
    "evs = {\n",
    "    \"mean_new\": np.mean(new_params, axis = 0),\n",
    "    \"mean_stan\": np.mean(stan_params, axis = 0),\n",
    "    \n",
    "    \"std_new\": np.std(new_params, axis = 0),\n",
    "    \"st_stan\": np.std(stan_params, axis = 0),\n",
    "    \n",
    "    \"q05_new\": np.quantile(new_params, 0.05, axis = 0),\n",
    "    \"q05_stan\": np.quantile(stan_params, 0.05, axis = 0),\n",
    "    \n",
    "    \"q25_new\": np.quantile(new_params, 0.25, axis = 0),\n",
    "    \"q25_stan\": np.quantile(stan_params, 0.25, axis = 0),\n",
    "\n",
    "    \"q50_new\": np.quantile(new_params, 0.5, axis = 0),\n",
    "    \"q50_stan\": np.quantile(stan_params, 0.5, axis = 0),\n",
    "\n",
    "    \"q75_new\": np.quantile(new_params, 0.75, axis = 0),\n",
    "    \"q75_stan\": np.quantile(stan_params, 0.75, axis = 0),\n",
    "\n",
    "    \"q95_new\": np.quantile(new_params, 0.95, axis = 0),\n",
    "    \"q95_stan\": np.quantile(stan_params, 0.95, axis = 0),\n",
    "}\n",
    "np.round(pd.DataFrame.from_dict(evs), 2)"
   ]
  },
  {
   "cell_type": "code",
   "execution_count": 22,
   "id": "f0cbcfa7-09a1-4b3c-a319-5e0e456160e9",
   "metadata": {},
   "outputs": [
    {
     "name": "stdout",
     "output_type": "stream",
     "text": [
      "Wasserstein-1(new_params, stan_params) =  0.14\n"
     ]
    }
   ],
   "source": [
    "# W-1 distance between parameter values for new init and stan init across all simulations\n",
    "equal_weights = np.ones(M) / M\n",
    "CM = ot.dist(new_params, stan_params, metric= \"euclidean\", p = 1)\n",
    "wn = ot.emd2(equal_weights, equal_weights, CM)\n",
    "print(f\"Wasserstein-1(new_params, stan_params) =  {np.round(wn, 2)}\")"
   ]
  },
  {
   "cell_type": "code",
   "execution_count": 23,
   "id": "62a0b328-bae9-4372-9c15-e98e8b0866fa",
   "metadata": {},
   "outputs": [
    {
     "name": "stdout",
     "output_type": "stream",
     "text": [
      "W-1( U(-2, 2), new_params) = 3.95\n"
     ]
    }
   ],
   "source": [
    "# How far did new init scheme move initial draws?\n",
    "sh = np.shape(stan_params)\n",
    "U = np.random.uniform(-2, 2, size = sh)\n",
    "UN = ot.dist(U, new_params, metric = \"euclidean\", p = 1)\n",
    "wnu = ot.emd2(equal_weights, equal_weights, UN)\n",
    "print(f\"W-1( U(-2, 2), new_params) = {np.round(wnu, 2)}\")"
   ]
  },
  {
   "cell_type": "code",
   "execution_count": 24,
   "id": "ba0e3135-15d8-42ac-8a1f-b925f50b0878",
   "metadata": {},
   "outputs": [
    {
     "name": "stdout",
     "output_type": "stream",
     "text": [
      "W-1( U(-2, 2), stan_params) = 4.02\n"
     ]
    }
   ],
   "source": [
    "# How far did Stan init scheme move initial draws?\n",
    "US = ot.dist(U, stan_params, metric = \"euclidean\", p = 1)\n",
    "wsu = ot.emd2(equal_weights, equal_weights, US)\n",
    "print(f\"W-1( U(-2, 2), stan_params) = {np.round(wsu, 2)}\")"
   ]
  },
  {
   "cell_type": "code",
   "execution_count": 25,
   "id": "7adc752d-e963-4298-939c-85d187a98bfe",
   "metadata": {},
   "outputs": [
    {
     "name": "stdout",
     "output_type": "stream",
     "text": [
      "W-1(new_params, stan_params) / W-1( U(-2, 2), stan_params): 0.04\n"
     ]
    }
   ],
   "source": [
    "# what's the relative distance between W-1(new_params, stan_params) and how far Stan \n",
    "# moved the initial U(-2, 2)\n",
    "print(f\"W-1(new_params, stan_params) / W-1( U(-2, 2), stan_params): {np.round(wn / wsu, 2)}\")"
   ]
  },
  {
   "cell_type": "code",
   "execution_count": 13,
   "id": "1ab95468-0e65-425e-a302-8718a5e4cb69",
   "metadata": {},
   "outputs": [
    {
     "data": {
      "text/plain": [
       "{'position': array([-0.0029824 ,  0.97364777,  0.0090941 , -1.77090532]),\n",
       " 'number_leapfrogs': array([ 1.,  1.,  1.,  1.,  2.,  1.,  1.,  1.,  1., 18.,  4.,  3., 33.,\n",
       "        12.,  6.,  1.,  2.,  2.,  1.,  1.,  1.,  8.,  1.,  1.,  1.,  1.,\n",
       "         1., 55.,  7.,  2.,  2.,  1.,  1.,  1.,  1.,  1.,  1.,  2.,  1.,\n",
       "         1.,  2.,  3.,  1.,  1.,  1.,  1.,  2.,  5.,  1.,  1.,  1.,  1.,\n",
       "         1.,  1.,  4.,  1.,  1.,  1.,  2.,  1.,  2.,  2.,  5.,  1.,  3.,\n",
       "         7.,  1.,  3.,  1.,  3.,  4.,  5.,  4.,  3.,  4.]),\n",
       " 'number_divergences': 9,\n",
       " 'momentum_uturn': 66,\n",
       " 'position_uturn': 0,\n",
       " 'either_uturn': 66,\n",
       " 'step_size': 0.013572899714700586,\n",
       " 'count_momentum_uturn': {'m_mn': 31,\n",
       "  'm_ms': 14,\n",
       "  'ms_mn': 31,\n",
       "  'mb_mn': 59,\n",
       "  'mb_ms': 49}}"
      ]
     },
     "execution_count": 13,
     "metadata": {},
     "output_type": "execute_result"
    }
   ],
   "source": [
    "fit_new"
   ]
  },
  {
   "cell_type": "code",
   "execution_count": 21,
   "id": "c89175e8-24fc-400a-b503-e005e50906c5",
   "metadata": {},
   "outputs": [],
   "source": [
    "def rand_binomial(K, p, size):\n",
    "    K = 10\n",
    "    x = -np.ones(size)\n",
    "    for s in range(size):\n",
    "        S = 0.0\n",
    "        while S <= N:\n",
    "            g = np.ceil(np.log(np.random.uniform()) / np.log(0.25))\n",
    "            S += g\n",
    "            x[s] += 1\n",
    "    return x"
   ]
  },
  {
   "cell_type": "code",
   "execution_count": 25,
   "id": "67a121f6-fca5-4b22-bb2f-85f894814133",
   "metadata": {},
   "outputs": [
    {
     "data": {
      "text/plain": [
       "7.50557"
      ]
     },
     "execution_count": 25,
     "metadata": {},
     "output_type": "execute_result"
    }
   ],
   "source": [
    "x = rand_binomial(10, 0.75, 100_000)"
   ]
  },
  {
   "cell_type": "code",
   "execution_count": 28,
   "id": "fa92ae4a-e3a5-4139-990d-45e8b4b5282d",
   "metadata": {},
   "outputs": [
    {
     "data": {
      "text/plain": [
       "8.0"
      ]
     },
     "execution_count": 28,
     "metadata": {},
     "output_type": "execute_result"
    }
   ],
   "source": [
    "np.median(x)"
   ]
  },
  {
   "cell_type": "code",
   "execution_count": 27,
   "id": "b834b648-71b5-47c9-a9af-0a2178f6937f",
   "metadata": {},
   "outputs": [
    {
     "data": {
      "text/plain": [
       "1.875"
      ]
     },
     "execution_count": 27,
     "metadata": {},
     "output_type": "execute_result"
    }
   ],
   "source": [
    "10 * 0.75 * 0.25"
   ]
  },
  {
   "cell_type": "code",
   "execution_count": null,
   "id": "79b7daa9-8c5b-4806-a2e3-8804f2c6a882",
   "metadata": {},
   "outputs": [],
   "source": []
  }
 ],
 "metadata": {
  "kernelspec": {
   "display_name": "Python 3 (ipykernel)",
   "language": "python",
   "name": "python3"
  },
  "language_info": {
   "codemirror_mode": {
    "name": "ipython",
    "version": 3
   },
   "file_extension": ".py",
   "mimetype": "text/x-python",
   "name": "python",
   "nbconvert_exporter": "python",
   "pygments_lexer": "ipython3",
   "version": "3.12.1"
  }
 },
 "nbformat": 4,
 "nbformat_minor": 5
}
